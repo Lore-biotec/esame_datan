{
 "cells": [
  {
   "cell_type": "markdown",
   "id": "aa57409b-8190-4015-ae4d-9a48bfde7b65",
   "metadata": {
    "tags": []
   },
   "source": [
    "---\n",
    "title: \"Sample Document\"\n",
    "output:\n",
    "  html_document:\n",
    "    toc: true\n",
    "    theme: united\n",
    "---\n",
    "\n",
    "# Introduction\n",
    "\n",
    "## Knockdown of FERRY components\n",
    "\n",
    "# Data analysis\n",
    "\n"
   ]
  },
  {
   "cell_type": "markdown",
   "id": "0e306b7e-a91d-44f2-9cfb-e20d8655ea19",
   "metadata": {
    "tags": []
   },
   "source": [
    "## Count table structure"
   ]
  },
  {
   "cell_type": "markdown",
   "id": "13053ece-91d4-4b1b-81f9-c262492d1470",
   "metadata": {},
   "source": [
    "- The samples are a triplicate of each of the four FERRY component KOs, plus the wt controls:"
   ]
  },
  {
   "cell_type": "code",
   "execution_count": 1,
   "id": "0a84a00b-5b2c-4eec-906f-371bf4654880",
   "metadata": {
    "tags": []
   },
   "outputs": [
    {
     "data": {
      "text/html": [
       "<style>\n",
       ".list-inline {list-style: none; margin:0; padding: 0}\n",
       ".list-inline>li {display: inline-block}\n",
       ".list-inline>li:not(:last-child)::after {content: \"\\00b7\"; padding: 0 .5ex}\n",
       "</style>\n",
       "<ol class=list-inline><li>58178</li><li>15</li></ol>\n"
      ],
      "text/latex": [
       "\\begin{enumerate*}\n",
       "\\item 58178\n",
       "\\item 15\n",
       "\\end{enumerate*}\n"
      ],
      "text/markdown": [
       "1. 58178\n",
       "2. 15\n",
       "\n",
       "\n"
      ],
      "text/plain": [
       "[1] 58178    15"
      ]
     },
     "metadata": {},
     "output_type": "display_data"
    },
    {
     "data": {
      "text/html": [
       "<style>\n",
       ".list-inline {list-style: none; margin:0; padding: 0}\n",
       ".list-inline>li {display: inline-block}\n",
       ".list-inline>li:not(:last-child)::after {content: \"\\00b7\"; padding: 0 .5ex}\n",
       "</style>\n",
       "<ol class=list-inline><li>'fy.1_KO1'</li><li>'fy.1_KO2'</li><li>'fy.1_KO3'</li><li>'fy.2_KO1'</li><li>'fy.2_KO2'</li><li>'fy.2_KO3'</li><li>'fy.4_KO1'</li><li>'fy.4_KO2'</li><li>'fy.4_KO3'</li><li>'fy.5_KO1'</li><li>'fy.5_KO2'</li><li>'fy.5_KO3'</li><li>'wt_1'</li><li>'wt_2'</li><li>'wt_3'</li></ol>\n"
      ],
      "text/latex": [
       "\\begin{enumerate*}\n",
       "\\item 'fy.1\\_KO1'\n",
       "\\item 'fy.1\\_KO2'\n",
       "\\item 'fy.1\\_KO3'\n",
       "\\item 'fy.2\\_KO1'\n",
       "\\item 'fy.2\\_KO2'\n",
       "\\item 'fy.2\\_KO3'\n",
       "\\item 'fy.4\\_KO1'\n",
       "\\item 'fy.4\\_KO2'\n",
       "\\item 'fy.4\\_KO3'\n",
       "\\item 'fy.5\\_KO1'\n",
       "\\item 'fy.5\\_KO2'\n",
       "\\item 'fy.5\\_KO3'\n",
       "\\item 'wt\\_1'\n",
       "\\item 'wt\\_2'\n",
       "\\item 'wt\\_3'\n",
       "\\end{enumerate*}\n"
      ],
      "text/markdown": [
       "1. 'fy.1_KO1'\n",
       "2. 'fy.1_KO2'\n",
       "3. 'fy.1_KO3'\n",
       "4. 'fy.2_KO1'\n",
       "5. 'fy.2_KO2'\n",
       "6. 'fy.2_KO3'\n",
       "7. 'fy.4_KO1'\n",
       "8. 'fy.4_KO2'\n",
       "9. 'fy.4_KO3'\n",
       "10. 'fy.5_KO1'\n",
       "11. 'fy.5_KO2'\n",
       "12. 'fy.5_KO3'\n",
       "13. 'wt_1'\n",
       "14. 'wt_2'\n",
       "15. 'wt_3'\n",
       "\n",
       "\n"
      ],
      "text/plain": [
       " [1] \"fy.1_KO1\" \"fy.1_KO2\" \"fy.1_KO3\" \"fy.2_KO1\" \"fy.2_KO2\" \"fy.2_KO3\"\n",
       " [7] \"fy.4_KO1\" \"fy.4_KO2\" \"fy.4_KO3\" \"fy.5_KO1\" \"fy.5_KO2\" \"fy.5_KO3\"\n",
       "[13] \"wt_1\"     \"wt_2\"     \"wt_3\"    "
      ]
     },
     "metadata": {},
     "output_type": "display_data"
    }
   ],
   "source": [
    "count_table <- read.table(\"/sharedFolder/dataset/GSE230114_count_matrix.tsv\", sep=\"\\t\", header = TRUE, row.names=1)\n",
    "dim(count_table)\n",
    "colnames(count_table)"
   ]
  },
  {
   "cell_type": "markdown",
   "id": "b9202e12-4c8f-417a-bda4-5301b8de2444",
   "metadata": {},
   "source": [
    "- The count table contains additional mapping info at the top four rows which needed to be removed to perform analysis."
   ]
  },
  {
   "cell_type": "code",
   "execution_count": 2,
   "id": "bc77f39e-c93a-4678-a4c5-0fd4740c9179",
   "metadata": {
    "tags": []
   },
   "outputs": [
    {
     "data": {
      "text/html": [
       "<table class=\"dataframe\">\n",
       "<caption>A data.frame: 6 × 15</caption>\n",
       "<thead>\n",
       "\t<tr><th></th><th scope=col>fy.1_KO1</th><th scope=col>fy.1_KO2</th><th scope=col>fy.1_KO3</th><th scope=col>fy.2_KO1</th><th scope=col>fy.2_KO2</th><th scope=col>fy.2_KO3</th><th scope=col>fy.4_KO1</th><th scope=col>fy.4_KO2</th><th scope=col>fy.4_KO3</th><th scope=col>fy.5_KO1</th><th scope=col>fy.5_KO2</th><th scope=col>fy.5_KO3</th><th scope=col>wt_1</th><th scope=col>wt_2</th><th scope=col>wt_3</th></tr>\n",
       "\t<tr><th></th><th scope=col>&lt;int&gt;</th><th scope=col>&lt;int&gt;</th><th scope=col>&lt;int&gt;</th><th scope=col>&lt;int&gt;</th><th scope=col>&lt;int&gt;</th><th scope=col>&lt;int&gt;</th><th scope=col>&lt;int&gt;</th><th scope=col>&lt;int&gt;</th><th scope=col>&lt;int&gt;</th><th scope=col>&lt;int&gt;</th><th scope=col>&lt;int&gt;</th><th scope=col>&lt;int&gt;</th><th scope=col>&lt;int&gt;</th><th scope=col>&lt;int&gt;</th><th scope=col>&lt;int&gt;</th></tr>\n",
       "</thead>\n",
       "<tbody>\n",
       "\t<tr><th scope=row>N_unmapped</th><td>21501758</td><td>14869105</td><td>13247861</td><td>14494385</td><td>13040253</td><td>11952915</td><td>15222983</td><td>12448629</td><td>13599320</td><td>12440218</td><td>13883415</td><td>12828977</td><td>17359917</td><td>19654977</td><td>17523561</td></tr>\n",
       "\t<tr><th scope=row>N_multimapping</th><td>       0</td><td>       0</td><td>       0</td><td>       0</td><td>       0</td><td>       0</td><td>       0</td><td>       0</td><td>       0</td><td>       0</td><td>       0</td><td>       0</td><td>       0</td><td>       0</td><td>       0</td></tr>\n",
       "\t<tr><th scope=row>N_noFeature</th><td>21469294</td><td>22380469</td><td>24184545</td><td>26413005</td><td>26851984</td><td>27750888</td><td>21915436</td><td>21485648</td><td>21331186</td><td>26289304</td><td>23351477</td><td>21004878</td><td>25005705</td><td>23406843</td><td>21369740</td></tr>\n",
       "\t<tr><th scope=row>N_ambiguous</th><td> 4214196</td><td> 2930260</td><td> 2753066</td><td> 2801228</td><td> 2973540</td><td> 2612770</td><td> 3552453</td><td> 2837547</td><td> 3007814</td><td> 3636922</td><td> 3124712</td><td> 3242532</td><td> 3475218</td><td> 3451936</td><td> 3694677</td></tr>\n",
       "\t<tr><th scope=row>ENSG00000223972</th><td>       0</td><td>       1</td><td>       1</td><td>       0</td><td>       0</td><td>       0</td><td>       0</td><td>       0</td><td>       0</td><td>       0</td><td>       0</td><td>       0</td><td>       0</td><td>       0</td><td>       1</td></tr>\n",
       "\t<tr><th scope=row>ENSG00000227232</th><td>     289</td><td>     274</td><td>     268</td><td>     307</td><td>     287</td><td>     324</td><td>     261</td><td>     234</td><td>     242</td><td>     278</td><td>     278</td><td>     262</td><td>     234</td><td>     258</td><td>     290</td></tr>\n",
       "</tbody>\n",
       "</table>\n"
      ],
      "text/latex": [
       "A data.frame: 6 × 15\n",
       "\\begin{tabular}{r|lllllllllllllll}\n",
       "  & fy.1\\_KO1 & fy.1\\_KO2 & fy.1\\_KO3 & fy.2\\_KO1 & fy.2\\_KO2 & fy.2\\_KO3 & fy.4\\_KO1 & fy.4\\_KO2 & fy.4\\_KO3 & fy.5\\_KO1 & fy.5\\_KO2 & fy.5\\_KO3 & wt\\_1 & wt\\_2 & wt\\_3\\\\\n",
       "  & <int> & <int> & <int> & <int> & <int> & <int> & <int> & <int> & <int> & <int> & <int> & <int> & <int> & <int> & <int>\\\\\n",
       "\\hline\n",
       "\tN\\_unmapped & 21501758 & 14869105 & 13247861 & 14494385 & 13040253 & 11952915 & 15222983 & 12448629 & 13599320 & 12440218 & 13883415 & 12828977 & 17359917 & 19654977 & 17523561\\\\\n",
       "\tN\\_multimapping &        0 &        0 &        0 &        0 &        0 &        0 &        0 &        0 &        0 &        0 &        0 &        0 &        0 &        0 &        0\\\\\n",
       "\tN\\_noFeature & 21469294 & 22380469 & 24184545 & 26413005 & 26851984 & 27750888 & 21915436 & 21485648 & 21331186 & 26289304 & 23351477 & 21004878 & 25005705 & 23406843 & 21369740\\\\\n",
       "\tN\\_ambiguous &  4214196 &  2930260 &  2753066 &  2801228 &  2973540 &  2612770 &  3552453 &  2837547 &  3007814 &  3636922 &  3124712 &  3242532 &  3475218 &  3451936 &  3694677\\\\\n",
       "\tENSG00000223972 &        0 &        1 &        1 &        0 &        0 &        0 &        0 &        0 &        0 &        0 &        0 &        0 &        0 &        0 &        1\\\\\n",
       "\tENSG00000227232 &      289 &      274 &      268 &      307 &      287 &      324 &      261 &      234 &      242 &      278 &      278 &      262 &      234 &      258 &      290\\\\\n",
       "\\end{tabular}\n"
      ],
      "text/markdown": [
       "\n",
       "A data.frame: 6 × 15\n",
       "\n",
       "| <!--/--> | fy.1_KO1 &lt;int&gt; | fy.1_KO2 &lt;int&gt; | fy.1_KO3 &lt;int&gt; | fy.2_KO1 &lt;int&gt; | fy.2_KO2 &lt;int&gt; | fy.2_KO3 &lt;int&gt; | fy.4_KO1 &lt;int&gt; | fy.4_KO2 &lt;int&gt; | fy.4_KO3 &lt;int&gt; | fy.5_KO1 &lt;int&gt; | fy.5_KO2 &lt;int&gt; | fy.5_KO3 &lt;int&gt; | wt_1 &lt;int&gt; | wt_2 &lt;int&gt; | wt_3 &lt;int&gt; |\n",
       "|---|---|---|---|---|---|---|---|---|---|---|---|---|---|---|---|\n",
       "| N_unmapped | 21501758 | 14869105 | 13247861 | 14494385 | 13040253 | 11952915 | 15222983 | 12448629 | 13599320 | 12440218 | 13883415 | 12828977 | 17359917 | 19654977 | 17523561 |\n",
       "| N_multimapping |        0 |        0 |        0 |        0 |        0 |        0 |        0 |        0 |        0 |        0 |        0 |        0 |        0 |        0 |        0 |\n",
       "| N_noFeature | 21469294 | 22380469 | 24184545 | 26413005 | 26851984 | 27750888 | 21915436 | 21485648 | 21331186 | 26289304 | 23351477 | 21004878 | 25005705 | 23406843 | 21369740 |\n",
       "| N_ambiguous |  4214196 |  2930260 |  2753066 |  2801228 |  2973540 |  2612770 |  3552453 |  2837547 |  3007814 |  3636922 |  3124712 |  3242532 |  3475218 |  3451936 |  3694677 |\n",
       "| ENSG00000223972 |        0 |        1 |        1 |        0 |        0 |        0 |        0 |        0 |        0 |        0 |        0 |        0 |        0 |        0 |        1 |\n",
       "| ENSG00000227232 |      289 |      274 |      268 |      307 |      287 |      324 |      261 |      234 |      242 |      278 |      278 |      262 |      234 |      258 |      290 |\n",
       "\n"
      ],
      "text/plain": [
       "                fy.1_KO1 fy.1_KO2 fy.1_KO3 fy.2_KO1 fy.2_KO2 fy.2_KO3 fy.4_KO1\n",
       "N_unmapped      21501758 14869105 13247861 14494385 13040253 11952915 15222983\n",
       "N_multimapping         0        0        0        0        0        0        0\n",
       "N_noFeature     21469294 22380469 24184545 26413005 26851984 27750888 21915436\n",
       "N_ambiguous      4214196  2930260  2753066  2801228  2973540  2612770  3552453\n",
       "ENSG00000223972        0        1        1        0        0        0        0\n",
       "ENSG00000227232      289      274      268      307      287      324      261\n",
       "                fy.4_KO2 fy.4_KO3 fy.5_KO1 fy.5_KO2 fy.5_KO3 wt_1     wt_2    \n",
       "N_unmapped      12448629 13599320 12440218 13883415 12828977 17359917 19654977\n",
       "N_multimapping         0        0        0        0        0        0        0\n",
       "N_noFeature     21485648 21331186 26289304 23351477 21004878 25005705 23406843\n",
       "N_ambiguous      2837547  3007814  3636922  3124712  3242532  3475218  3451936\n",
       "ENSG00000223972        0        0        0        0        0        0        0\n",
       "ENSG00000227232      234      242      278      278      262      234      258\n",
       "                wt_3    \n",
       "N_unmapped      17523561\n",
       "N_multimapping         0\n",
       "N_noFeature     21369740\n",
       "N_ambiguous      3694677\n",
       "ENSG00000223972        1\n",
       "ENSG00000227232      290"
      ]
     },
     "metadata": {},
     "output_type": "display_data"
    }
   ],
   "source": [
    "head(count_table)"
   ]
  },
  {
   "cell_type": "code",
   "execution_count": 3,
   "id": "3c434fe6-cd9e-4a59-b9ca-7389b9690ccd",
   "metadata": {
    "tags": []
   },
   "outputs": [
    {
     "data": {
      "text/html": [
       "<table class=\"dataframe\">\n",
       "<caption>A data.frame: 3 × 6</caption>\n",
       "<thead>\n",
       "\t<tr><th></th><th scope=col>fy.1_KO1</th><th scope=col>fy.1_KO2</th><th scope=col>fy.1_KO3</th><th scope=col>fy.2_KO1</th><th scope=col>fy.2_KO2</th><th scope=col>fy.2_KO3</th></tr>\n",
       "\t<tr><th></th><th scope=col>&lt;int&gt;</th><th scope=col>&lt;int&gt;</th><th scope=col>&lt;int&gt;</th><th scope=col>&lt;int&gt;</th><th scope=col>&lt;int&gt;</th><th scope=col>&lt;int&gt;</th></tr>\n",
       "</thead>\n",
       "<tbody>\n",
       "\t<tr><th scope=row>ENSG00000223972</th><td>  0</td><td>  1</td><td>  1</td><td>  0</td><td>  0</td><td>  0</td></tr>\n",
       "\t<tr><th scope=row>ENSG00000227232</th><td>289</td><td>274</td><td>268</td><td>307</td><td>287</td><td>324</td></tr>\n",
       "\t<tr><th scope=row>ENSG00000278267</th><td>  0</td><td>  0</td><td>  0</td><td>  0</td><td>  0</td><td>  1</td></tr>\n",
       "</tbody>\n",
       "</table>\n"
      ],
      "text/latex": [
       "A data.frame: 3 × 6\n",
       "\\begin{tabular}{r|llllll}\n",
       "  & fy.1\\_KO1 & fy.1\\_KO2 & fy.1\\_KO3 & fy.2\\_KO1 & fy.2\\_KO2 & fy.2\\_KO3\\\\\n",
       "  & <int> & <int> & <int> & <int> & <int> & <int>\\\\\n",
       "\\hline\n",
       "\tENSG00000223972 &   0 &   1 &   1 &   0 &   0 &   0\\\\\n",
       "\tENSG00000227232 & 289 & 274 & 268 & 307 & 287 & 324\\\\\n",
       "\tENSG00000278267 &   0 &   0 &   0 &   0 &   0 &   1\\\\\n",
       "\\end{tabular}\n"
      ],
      "text/markdown": [
       "\n",
       "A data.frame: 3 × 6\n",
       "\n",
       "| <!--/--> | fy.1_KO1 &lt;int&gt; | fy.1_KO2 &lt;int&gt; | fy.1_KO3 &lt;int&gt; | fy.2_KO1 &lt;int&gt; | fy.2_KO2 &lt;int&gt; | fy.2_KO3 &lt;int&gt; |\n",
       "|---|---|---|---|---|---|---|\n",
       "| ENSG00000223972 |   0 |   1 |   1 |   0 |   0 |   0 |\n",
       "| ENSG00000227232 | 289 | 274 | 268 | 307 | 287 | 324 |\n",
       "| ENSG00000278267 |   0 |   0 |   0 |   0 |   0 |   1 |\n",
       "\n"
      ],
      "text/plain": [
       "                fy.1_KO1 fy.1_KO2 fy.1_KO3 fy.2_KO1 fy.2_KO2 fy.2_KO3\n",
       "ENSG00000223972   0        1        1        0        0        0     \n",
       "ENSG00000227232 289      274      268      307      287      324     \n",
       "ENSG00000278267   0        0        0        0        0        1     "
      ]
     },
     "metadata": {},
     "output_type": "display_data"
    }
   ],
   "source": [
    "count_table <- count_table[-c(1:4),] #first four rows are excluded\n",
    "count_table[1:3,1:6]"
   ]
  },
  {
   "cell_type": "markdown",
   "id": "74c2779b-5fdf-4fe1-badf-6b819add83de",
   "metadata": {},
   "source": [
    "## Annotation\n",
    "The gene symbols were annotated from the hg38 assembly, as the alignment for this dataset has been produced recently."
   ]
  },
  {
   "cell_type": "markdown",
   "id": "8ff766fd-0a69-40b0-8b16-1791393fec2f",
   "metadata": {
    "jp-MarkdownHeadingCollapsed": true,
    "tags": []
   },
   "source": [
    "The annotated count table of the protein coding genes was obtained with the following string of commands, which was executed on Rstudio due to the limited processing capabilities of my docker environment and, in general, of my laptop.\n",
    "\n",
    "------\n",
    "### Preparing the annotation\n",
    "```r\n",
    "gtf <- read.table(\"Homo_sapiens.GRCh38.109.gtf\", sep=\"\\t\", header=T)\n",
    "gtf1 <- gtf[which(gtf$gene == \"gene\"),]\n",
    "# the 9th column of this table contains the required set \"genes\"\n",
    "gtf1_annotation <- gtf1[,9]\n",
    "# removing the genes that are not named and that do not code for proteins\n",
    "gtf1_annotation <- gtf1_annotation[grep(\"gene_name \", gtf1_annotation )]\n",
    "gtf1_annotation <- gtf1_annotation[grep(\"protein_coding\", gtf1_annotation )]\n",
    "gtf1_annotation_lst <- strsplit(gtf1_annotation, \"; \")\n",
    "gtf1_annotation_df <- as.data.frame(gtf1_annotation_lst)\n",
    "# the table is translated to visualise the annotations as columns \n",
    "gtf1_annotation_df <- as.data.frame(t(gtf1_annotation_df))\n",
    "# extrapolating the ids and the symbols, and naming the columns\n",
    "gtf1_annotation_df <- gtf1_annotation_df[,c(1,3)] \n",
    "names(gtf1_annotation_df) <- c(\"ensemblid\",\"symbol\")\n",
    "# removing the descriptors from the values\n",
    "gtf1_annotation_df$ensemblid <- gsub(\"gene_id \", \"\", gtf1_annotation_df$ensemblid)\n",
    "gtf1_annotation_df$symbol <- gsub(\"gene_name \", \"\", gtf1_annotation_df$symbol)\n",
    "# naming the rows \"ensemblid:symbol\"\n",
    "rownames(gtf1_annotation_df) <- paste(gtf1_annotation_df$ensemblid, gtf1_annotation_df$symbol, sep=\":\")\n",
    "# removing duplicates from symbols and ensemblids (no duplicates were present in the second instance)\n",
    "gtf1_annotation_df <- gtf1_annotation_df[!duplicated(gtf1_annotation_df$symbol),]\n",
    "gtf1_annotation_df <- gtf1_annotation_df[!duplicated(gtf1_annotation_df$ensemblid),]\n",
    "\n",
    "```\n",
    "-----\n",
    "### Annotating the count table\n",
    "```r\n",
    "count_table <- read.table(\"count_table_newcol.tsv\", sep=\"\\t\", header = TRUE, row.names=1)\n",
    "# filtering out from the annotation the genes that are not present in the count table\n",
    "gtf1_annotation_filtered <- gtf1_annotation_df[which(gtf1_annotation_df$ensemblid %in% rownames(count_table)),]\n",
    "# filtering out the npc genes from the count table (they were excluded from the annotation)\n",
    "count_table <- count_table[which(rownames(count_table) %in% gtf1_annotation_df$ensemblid),]\n",
    "# ordering both the count and annotation table by their ensembl ids\n",
    "gtf1_annotation_filtered <- gtf1_annotation_filtered[order(gtf1_annotation_filtered$ensemblid),]\n",
    "count_table <- count_table[order(rownames(count_table)),]\n",
    "# checking if the ids match after being ordered\n",
    "identical(rownames(count_table), gtf1_annotation_filtered$ensemblid)\n",
    "# substituting the ids in the count table with the gene symbols\n",
    "rownames(count_table) <- gtf1_annotation_filtered$symbol\n",
    "write.table(count_table, \"annotated_count_table.tsv\", sep=\"\\t\", col.names = NA)\n",
    "```\n",
    "-------\n",
    "The annotated count table was then copied into the dataset folder"
   ]
  },
  {
   "cell_type": "markdown",
   "id": "c49ee461-86cb-4c61-acfe-d14888cdbdc9",
   "metadata": {
    "tags": []
   },
   "source": [
    "## Log2 CPM"
   ]
  },
  {
   "cell_type": "code",
   "execution_count": 15,
   "id": "e12b98dd-a45a-4269-85d3-7626578fad81",
   "metadata": {
    "tags": []
   },
   "outputs": [],
   "source": [
    "suppressMessages(library(edgeR))\n",
    "library(limma)\n",
    "\n",
    "cpm_mat <- cpm(count_table)\n",
    "log2_cpm_mat = log2(cpm_mat + 1)"
   ]
  },
  {
   "cell_type": "code",
   "execution_count": 5,
   "id": "b7ee7dfa-f5e9-4ad4-8dff-f89ceca252ad",
   "metadata": {
    "tags": []
   },
   "outputs": [
    {
     "data": {
      "text/html": [
       "<table class=\"dataframe\">\n",
       "<caption>A matrix: 3 × 6 of type dbl</caption>\n",
       "<thead>\n",
       "\t<tr><th></th><th scope=col>fy.1_KO1</th><th scope=col>fy.1_KO2</th><th scope=col>fy.1_KO3</th><th scope=col>fy.2_KO1</th><th scope=col>fy.2_KO2</th><th scope=col>fy.2_KO3</th></tr>\n",
       "</thead>\n",
       "<tbody>\n",
       "\t<tr><th scope=row>ENSG00000223972</th><td>0.000000</td><td>0.0298045</td><td>0.03121304</td><td>0.000000</td><td>0.000000</td><td>0.0000000</td></tr>\n",
       "\t<tr><th scope=row>ENSG00000227232</th><td>2.417888</td><td>2.7483357</td><td>2.77850699</td><td>2.908024</td><td>2.709171</td><td>3.0621210</td></tr>\n",
       "\t<tr><th scope=row>ENSG00000278267</th><td>0.000000</td><td>0.0000000</td><td>0.00000000</td><td>0.000000</td><td>0.000000</td><td>0.0323708</td></tr>\n",
       "</tbody>\n",
       "</table>\n"
      ],
      "text/latex": [
       "A matrix: 3 × 6 of type dbl\n",
       "\\begin{tabular}{r|llllll}\n",
       "  & fy.1\\_KO1 & fy.1\\_KO2 & fy.1\\_KO3 & fy.2\\_KO1 & fy.2\\_KO2 & fy.2\\_KO3\\\\\n",
       "\\hline\n",
       "\tENSG00000223972 & 0.000000 & 0.0298045 & 0.03121304 & 0.000000 & 0.000000 & 0.0000000\\\\\n",
       "\tENSG00000227232 & 2.417888 & 2.7483357 & 2.77850699 & 2.908024 & 2.709171 & 3.0621210\\\\\n",
       "\tENSG00000278267 & 0.000000 & 0.0000000 & 0.00000000 & 0.000000 & 0.000000 & 0.0323708\\\\\n",
       "\\end{tabular}\n"
      ],
      "text/markdown": [
       "\n",
       "A matrix: 3 × 6 of type dbl\n",
       "\n",
       "| <!--/--> | fy.1_KO1 | fy.1_KO2 | fy.1_KO3 | fy.2_KO1 | fy.2_KO2 | fy.2_KO3 |\n",
       "|---|---|---|---|---|---|---|\n",
       "| ENSG00000223972 | 0.000000 | 0.0298045 | 0.03121304 | 0.000000 | 0.000000 | 0.0000000 |\n",
       "| ENSG00000227232 | 2.417888 | 2.7483357 | 2.77850699 | 2.908024 | 2.709171 | 3.0621210 |\n",
       "| ENSG00000278267 | 0.000000 | 0.0000000 | 0.00000000 | 0.000000 | 0.000000 | 0.0323708 |\n",
       "\n"
      ],
      "text/plain": [
       "                fy.1_KO1 fy.1_KO2  fy.1_KO3   fy.2_KO1 fy.2_KO2 fy.2_KO3 \n",
       "ENSG00000223972 0.000000 0.0298045 0.03121304 0.000000 0.000000 0.0000000\n",
       "ENSG00000227232 2.417888 2.7483357 2.77850699 2.908024 2.709171 3.0621210\n",
       "ENSG00000278267 0.000000 0.0000000 0.00000000 0.000000 0.000000 0.0323708"
      ]
     },
     "metadata": {},
     "output_type": "display_data"
    }
   ],
   "source": [
    "log2_cpm_mat[1:3,1:6]"
   ]
  },
  {
   "cell_type": "markdown",
   "id": "03a16530-3582-406d-9d25-f69048abeae5",
   "metadata": {
    "tags": []
   },
   "source": [
    "## PCA"
   ]
  },
  {
   "cell_type": "markdown",
   "id": "2f4505c0-2073-4afe-80c8-88007a988d12",
   "metadata": {},
   "source": [
    "The column names need to be modified to allow for an easier labelling of the samples with PCA.\n",
    "Done on both the count and log2cpm conversion of the data."
   ]
  },
  {
   "cell_type": "code",
   "execution_count": 6,
   "id": "8c8578d9-8b92-435c-8cf0-f4fed17b2a10",
   "metadata": {
    "tags": []
   },
   "outputs": [],
   "source": [
    "colnames(count_table) <- c(\"KO1_fy1\",\"KO2_fy1\",\"KO3_fy1\",\"KO1_fy2\",\"KO2_fy2\",\"KO3_fy2\",\"KO1_fy4\",\"KO2_fy4\",\"KO3_fy4\",\"KO1_fy5\",\"KO2_fy5\",\"KO3_fy5\",\"HeLa1_wt\",\"HeLa2_wt\",\"HeLa3_wt\")\n",
    "colnames(log2_cpm_mat) <- c(\"KO1_fy1\",\"KO2_fy1\",\"KO3_fy1\",\"KO1_fy2\",\"KO2_fy2\",\"KO3_fy2\",\"KO1_fy4\",\"KO2_fy4\",\"KO3_fy4\",\"KO1_fy5\",\"KO2_fy5\",\"KO3_fy5\",\"HeLa1_wt\",\"HeLa2_wt\",\"HeLa3_wt\")"
   ]
  },
  {
   "cell_type": "markdown",
   "id": "99c3e9ba-d37c-42ad-9385-e3d18a274376",
   "metadata": {
    "tags": []
   },
   "source": [
    "Saving matrices as .tsv to allow their use by the pca function."
   ]
  },
  {
   "cell_type": "code",
   "execution_count": 7,
   "id": "82e5e660-e9aa-4f78-94d4-b38a90a4c47f",
   "metadata": {
    "tags": []
   },
   "outputs": [],
   "source": [
    "write.table(log2_cpm_mat, \"/sharedFolder/dataset/log2_cpm_newcol.tsv\", sep=\"\\t\", col.names = NA) \n",
    "write.table(count_table, \"/sharedFolder/dataset/count_table_newcol.tsv\", sep=\"\\t\", col.names = NA) "
   ]
  },
  {
   "cell_type": "code",
   "execution_count": 8,
   "id": "e9f8ad38-5877-407e-b7c0-52cf1dee4b21",
   "metadata": {
    "tags": []
   },
   "outputs": [
    {
     "data": {
      "image/png": "[encoded data removed]",
      "text/plain": [
       "Plot with title “/sharedFolder/dataset/count_table_newcol.tsv”"
      ]
     },
     "metadata": {
      "image/png": {
       "height": 420,
       "width": 420
      }
     },
     "output_type": "display_data"
    }
   ],
   "source": [
    "source(\"/sharedFolder/docker4seq-master/R/pca.R\")\n",
    "pca(\n",
    "    experiment.table = \"/sharedFolder/dataset/count_table_newcol.tsv\",\n",
    "    type = \"counts\",\n",
    "    covariatesInNames = TRUE,\n",
    "    samplesName = TRUE,\n",
    "    principal.components = c(1, 2),\n",
    "    legend.position = \"bottomleft\",\n",
    "    pdf = FALSE\n",
    "    )"
   ]
  },
  {
   "cell_type": "code",
   "execution_count": 9,
   "id": "8b470a0e-a086-4c35-808c-12782d30276f",
   "metadata": {
    "tags": []
   },
   "outputs": [
    {
     "data": {
      "image/png": "[encoded data removed]",
      "text/plain": [
       "Plot with title “/sharedFolder/dataset/log2_cpm_newcol.tsv”"
      ]
     },
     "metadata": {
      "image/png": {
       "height": 420,
       "width": 420
      }
     },
     "output_type": "display_data"
    }
   ],
   "source": [
    "pca(\n",
    "    experiment.table = \"/sharedFolder/dataset/log2_cpm_newcol.tsv\",\n",
    "    type = \"FPKM\",\n",
    "    covariatesInNames = TRUE,\n",
    "    samplesName = TRUE,\n",
    "    principal.components = c(1,3),\n",
    "    legend.position = \"topright\",\n",
    "    pdf = FALSE\n",
    "    )"
   ]
  },
  {
   "cell_type": "markdown",
   "id": "604b0ce9-1b9e-48f3-9be9-7a57327cdb3f",
   "metadata": {},
   "source": [
    "# tSNE & UMAP"
   ]
  },
  {
   "cell_type": "code",
   "execution_count": 10,
   "id": "d6e88320-9c77-4179-a8fd-f0d6119ee42f",
   "metadata": {
    "tags": []
   },
   "outputs": [],
   "source": [
    "library(Rtsne)\n",
    "library(umap)\n",
    "library(ggplot2)"
   ]
  },
  {
   "cell_type": "code",
   "execution_count": 11,
   "id": "b6207d88-4b3b-4f75-ab3d-95fd094055f9",
   "metadata": {
    "tags": []
   },
   "outputs": [
    {
     "data": {
      "image/png": "[encoded data removed]",
      "text/plain": [
       "plot without title"
      ]
     },
     "metadata": {
      "image/png": {
       "height": 420,
       "width": 420
      }
     },
     "output_type": "display_data"
    }
   ],
   "source": [
    "tsne.out <- Rtsne(t(log2_cpm_mat), pca = FALSE, perplexity = 2) # Run TSNE\n",
    "f <- data.frame(x = as.numeric(tsne.out$Y[,1]), y = as.numeric(tsne.out$Y[,2]))\n",
    "sp <- ggplot(f, aes(x=x, y=y)) + geom_point(pch = 19, cex = 0.3)\n",
    "sp"
   ]
  },
  {
   "cell_type": "markdown",
   "id": "5c0734ee-11f3-40fe-80f2-066c58520dc8",
   "metadata": {},
   "source": [
    "For umap I am going to work with the annotated count table as it only contains the counts for the protein coding genes. \n",
    "The results will be later used for k-mean clustering and gene onthology. I could cluster first, to avoid losing data, and then filter out the npcgs, but I decided not to."
   ]
  },
  {
   "cell_type": "code",
   "execution_count": 12,
   "id": "3fa02b22-15ac-4c98-bca9-05d07c9bf6f8",
   "metadata": {},
   "outputs": [],
   "source": [
    "ann_count_table <- read.table(\"/sharedFolder/dataset/annotated_count_table.tsv\", sep=\"\\t\", header = TRUE, row.names=1)\n",
    "cpm_mat <- cpm(ann_count_table)\n",
    "log2_cpm_mat1 = log2(cpm_mat + 1)"
   ]
  },
  {
   "cell_type": "code",
   "execution_count": 17,
   "id": "95e1ac91-dcc5-4917-9fc7-9b74cb8bda4e",
   "metadata": {
    "tags": []
   },
   "outputs": [
    {
     "data": {
      "text/html": [
       "<table class=\"dataframe\">\n",
       "<caption>A matrix: 3 × 6 of type dbl</caption>\n",
       "<thead>\n",
       "\t<tr><th></th><th scope=col>KO1_fy1</th><th scope=col>KO2_fy1</th><th scope=col>KO3_fy1</th><th scope=col>KO1_fy2</th><th scope=col>KO2_fy2</th><th scope=col>KO3_fy2</th></tr>\n",
       "</thead>\n",
       "<tbody>\n",
       "\t<tr><th scope=row>TSPAN6</th><td>4.781004</td><td>4.738335</td><td>4.641645</td><td>4.908247</td><td>4.916770</td><td>4.914046</td></tr>\n",
       "\t<tr><th scope=row>TNMD</th><td>0.000000</td><td>0.000000</td><td>0.000000</td><td>0.000000</td><td>0.000000</td><td>0.000000</td></tr>\n",
       "\t<tr><th scope=row>DPM1</th><td>4.829283</td><td>4.917860</td><td>4.941055</td><td>5.065715</td><td>4.963863</td><td>5.036624</td></tr>\n",
       "</tbody>\n",
       "</table>\n"
      ],
      "text/latex": [
       "A matrix: 3 × 6 of type dbl\n",
       "\\begin{tabular}{r|llllll}\n",
       "  & KO1\\_fy1 & KO2\\_fy1 & KO3\\_fy1 & KO1\\_fy2 & KO2\\_fy2 & KO3\\_fy2\\\\\n",
       "\\hline\n",
       "\tTSPAN6 & 4.781004 & 4.738335 & 4.641645 & 4.908247 & 4.916770 & 4.914046\\\\\n",
       "\tTNMD & 0.000000 & 0.000000 & 0.000000 & 0.000000 & 0.000000 & 0.000000\\\\\n",
       "\tDPM1 & 4.829283 & 4.917860 & 4.941055 & 5.065715 & 4.963863 & 5.036624\\\\\n",
       "\\end{tabular}\n"
      ],
      "text/markdown": [
       "\n",
       "A matrix: 3 × 6 of type dbl\n",
       "\n",
       "| <!--/--> | KO1_fy1 | KO2_fy1 | KO3_fy1 | KO1_fy2 | KO2_fy2 | KO3_fy2 |\n",
       "|---|---|---|---|---|---|---|\n",
       "| TSPAN6 | 4.781004 | 4.738335 | 4.641645 | 4.908247 | 4.916770 | 4.914046 |\n",
       "| TNMD | 0.000000 | 0.000000 | 0.000000 | 0.000000 | 0.000000 | 0.000000 |\n",
       "| DPM1 | 4.829283 | 4.917860 | 4.941055 | 5.065715 | 4.963863 | 5.036624 |\n",
       "\n"
      ],
      "text/plain": [
       "       KO1_fy1  KO2_fy1  KO3_fy1  KO1_fy2  KO2_fy2  KO3_fy2 \n",
       "TSPAN6 4.781004 4.738335 4.641645 4.908247 4.916770 4.914046\n",
       "TNMD   0.000000 0.000000 0.000000 0.000000 0.000000 0.000000\n",
       "DPM1   4.829283 4.917860 4.941055 5.065715 4.963863 5.036624"
      ]
     },
     "metadata": {},
     "output_type": "display_data"
    }
   ],
   "source": [
    "log2_cpm_mat1[1:3,1:6]"
   ]
  },
  {
   "cell_type": "code",
   "execution_count": 13,
   "id": "02dbe865-4569-4750-a09b-9ac812d92edb",
   "metadata": {
    "tags": []
   },
   "outputs": [
    {
     "data": {
      "image/png": "[encoded data removed]",
      "text/plain": [
       "plot without title"
      ]
     },
     "metadata": {
      "image/png": {
       "height": 420,
       "width": 420
      }
     },
     "output_type": "display_data"
    }
   ],
   "source": [
    "umap.out <- umap(t(log2_cpm_mat1), n_epochs = 1000, min_dist = 0.01, n_neighbors = 4) \n",
    "f=data.frame(x=as.numeric(umap.out$layout[,1]), y=as.numeric(umap.out$layout[,2]))\n",
    "sp <- ggplot(f, aes(x=x, y=y)) + geom_point(pch = 19, cex = 0.3)\n",
    "sp\n",
    "save(umap.out, file=\"/sharedFolder/variables/umap.out.rda\")"
   ]
  },
  {
   "cell_type": "code",
   "execution_count": null,
   "id": "90153b27-8144-40f6-8bde-c386bcffdc0b",
   "metadata": {},
   "outputs": [],
   "source": [
    "The clustering was not significantly impacted by the removal of the non coding genes expression data."
   ]
  },
  {
   "cell_type": "markdown",
   "id": "8eaa86bf-9a4c-431f-81ba-e00425443b64",
   "metadata": {},
   "source": [
    "## K-mean clustering"
   ]
  },
  {
   "cell_type": "code",
   "execution_count": 21,
   "id": "e32c539b-397b-44aa-8df5-c1350b764f99",
   "metadata": {},
   "outputs": [
    {
     "name": "stdout",
     "output_type": "stream",
     "text": [
      "kmeans(): generating initial means\n",
      "kmeans(): n_threads: 4\n",
      "kmeans(): iteration:    1   delta: 5.37052\n",
      "kmeans(): iteration:    2   delta: 0.0745032\n",
      "kmeans(): iteration:    3   delta: 0\n"
     ]
    }
   ],
   "source": [
    "library(ClusterR)\n",
    "\n",
    "km <- KMeans_arma(f, clusters = 5, n_iter = 25, seed_mode = \"random_subset\", verbose = T)\n",
    "pr <- predict_KMeans(f, km)"
   ]
  },
  {
   "cell_type": "code",
   "execution_count": null,
   "id": "58890ce1-fd78-4915-a3a5-f05aad474bcf",
   "metadata": {},
   "outputs": [],
   "source": []
  },
  {
   "cell_type": "markdown",
   "id": "bbcfee7c-7810-433b-8cd3-d5848b98988a",
   "metadata": {
    "tags": []
   },
   "source": [
    "# DESeq2"
   ]
  },
  {
   "cell_type": "markdown",
   "id": "121902b3-8326-4e98-b5af-f0ab68b0a9bc",
   "metadata": {},
   "source": [
    "To use this function we need to prepare the sample condition matrix."
   ]
  },
  {
   "cell_type": "code",
   "execution_count": null,
   "id": "cc9b9e4d-4302-46bd-8269-b7fda7011c3c",
   "metadata": {
    "tags": []
   },
   "outputs": [],
   "source": [
    "coldata <- matrix(colnames(count_table))\n",
    "rownames(coldata) <- colnames(count_table)\n",
    "colnames(coldata) <- \"condition\"\n",
    "coldata[c(1:3),] <- \"FERRY1\"\n",
    "coldata[c(4:6),] <- \"FERRY2\"\n",
    "coldata[c(7:9),] <- \"FERRY4\"\n",
    "coldata[c(10:12),] <- \"FERRY5\"\n",
    "coldata[c(13:15),] <- \"CTRL\"\n",
    "coldata"
   ]
  },
  {
   "cell_type": "code",
   "execution_count": null,
   "id": "1a10a6fc-a253-47b3-8cb4-7c9808ea50f9",
   "metadata": {
    "tags": []
   },
   "outputs": [],
   "source": [
    "suppressMessages(library(\"DESeq2\"))"
   ]
  },
  {
   "cell_type": "code",
   "execution_count": null,
   "id": "f2da2013-7526-4a20-a1fb-543fbca84f87",
   "metadata": {
    "tags": []
   },
   "outputs": [],
   "source": [
    "coldata$condition <- as.factor(coldata$condition)\n",
    "dds <- DESeqDataSetFromMatrix(countData = count_table,\n",
    "                              colData = coldata,\n",
    "                              design = ~ condition)"
   ]
  },
  {
   "cell_type": "code",
   "execution_count": null,
   "id": "4eca536b-f92c-418f-a39b-050b8b1441fc",
   "metadata": {
    "tags": []
   },
   "outputs": [],
   "source": [
    "suppressMessages(dds <- DESeq(dds))"
   ]
  },
  {
   "cell_type": "markdown",
   "id": "1fe9072a-c958-4073-a06f-c904e7c8be61",
   "metadata": {},
   "source": [
    "- Getting rid of unused variables to lighten the load on my low performance laptop:"
   ]
  },
  {
   "cell_type": "code",
   "execution_count": null,
   "id": "322ada3a-7664-46cd-bb58-d727cfb1de66",
   "metadata": {},
   "outputs": [],
   "source": [
    "save(count_table, file=\"/sharedFolder/variables/count_table.rda\")\n",
    "save(dds, file=\"/sharedFolder/variables/dds.rda\")"
   ]
  },
  {
   "cell_type": "code",
   "execution_count": null,
   "id": "19337b75-a9eb-46d9-9c45-e08c43f5da24",
   "metadata": {
    "tags": []
   },
   "outputs": [],
   "source": [
    "rm(list = ls())"
   ]
  },
  {
   "cell_type": "code",
   "execution_count": null,
   "id": "5973f5db-cf29-4d28-a243-4caec3ed5ff9",
   "metadata": {
    "tags": []
   },
   "outputs": [],
   "source": [
    "load(\"/sharedFolder/variables/dds.rda\")"
   ]
  },
  {
   "cell_type": "code",
   "execution_count": null,
   "id": "63416ce8-9c60-4e82-8397-65604cabe1a5",
   "metadata": {
    "tags": []
   },
   "outputs": [],
   "source": [
    "res_F1 <- results(dds, contrast=c(\"condition\",\"FERRY1\",\"CTRL\"))\n",
    "res_F2 <- results(dds, contrast=c(\"condition\",\"FERRY2\",\"CTRL\"))\n",
    "res_F4 <- results(dds, contrast=c(\"condition\",\"FERRY4\",\"CTRL\"))\n",
    "res_F5 <- results(dds, contrast=c(\"condition\",\"FERRY5\",\"CTRL\"))"
   ]
  },
  {
   "cell_type": "markdown",
   "id": "e72d312d-ffc5-40f2-b380-05c5bcfb8a72",
   "metadata": {},
   "source": [
    "- Let's define a **function** to filter the results"
   ]
  },
  {
   "cell_type": "code",
   "execution_count": null,
   "id": "306fca71-1249-4762-abaa-f978aded95a0",
   "metadata": {
    "tags": []
   },
   "outputs": [],
   "source": [
    "filter.res <- function(res, padj) \n",
    "{\n",
    "    short_res <- res[is.na(res$padj) == 0,] #removing NA rows\n",
    "    short_res <- short_res[short_res$padj <= padj,]\n",
    "    short_res <- short_res[short_res$log2FoldChange <= 1,]\n",
    "    short_res <- short_res[short_res$log2FoldChange >= -1,] \n",
    "    print(\"Original number of genes:\")\n",
    "    print(nrow(res))\n",
    "    print(\"Significant genes:\")\n",
    "    print(nrow(short_res))\n",
    "    return(short_res)\n",
    "}"
   ]
  },
  {
   "cell_type": "code",
   "execution_count": null,
   "id": "bdbeea94-edfd-4851-94ce-5bbe4247c45c",
   "metadata": {
    "tags": []
   },
   "outputs": [],
   "source": [
    "short_res_F1 <- filter.res(res_F1, padj = 0.005)"
   ]
  },
  {
   "cell_type": "code",
   "execution_count": null,
   "id": "b679f88f-d35f-43ea-a402-bfd023d0f271",
   "metadata": {
    "tags": []
   },
   "outputs": [],
   "source": [
    "short_res_F2 <- filter.res(res_F2, padj = 0.005)"
   ]
  },
  {
   "cell_type": "code",
   "execution_count": null,
   "id": "79b74c44-bbe2-47eb-b92e-7327bf6c4691",
   "metadata": {},
   "outputs": [],
   "source": [
    "short_res_F4 <- filter.res(res_F4, padj = 0.005)"
   ]
  },
  {
   "cell_type": "code",
   "execution_count": null,
   "id": "7162ce28-05c5-42ea-96aa-6b30d2ee6f72",
   "metadata": {},
   "outputs": [],
   "source": [
    "short_res_F5 <- filter.res(res_F5, padj = 0.005)"
   ]
  },
  {
   "cell_type": "code",
   "execution_count": null,
   "id": "6e64381e-2b14-430e-971e-12f996a65fe0",
   "metadata": {
    "tags": []
   },
   "outputs": [],
   "source": [
    "write.table(short_res_F1, \"/sharedFolder/variables/listaF1.tsv\", sep=\"\\t\", col.names = NA)\n",
    "write.table(short_res_F2, \"/sharedFolder/variables/listaF2.tsv\", sep=\"\\t\", col.names = NA) \n",
    "write.table(short_res_F4, \"/sharedFolder/variables/listaF4.tsv\", sep=\"\\t\", col.names = NA) \n",
    "write.table(short_res_F5, \"/sharedFolder/variables/listaF5.tsv\", sep=\"\\t\", col.names = NA) "
   ]
  },
  {
   "cell_type": "code",
   "execution_count": null,
   "id": "82235394-c4e2-4eae-aa44-2a1bd0be22c7",
   "metadata": {},
   "outputs": [],
   "source": []
  }
 ],
 "metadata": {
  "kernelspec": {
   "display_name": "R",
   "language": "R",
   "name": "ir"
  },
  "language_info": {
   "codemirror_mode": "r",
   "file_extension": ".r",
   "mimetype": "text/x-r-source",
   "name": "R",
   "pygments_lexer": "r",
   "version": "4.1.1"
  }
 },
 "nbformat": 4,
 "nbformat_minor": 5
}
