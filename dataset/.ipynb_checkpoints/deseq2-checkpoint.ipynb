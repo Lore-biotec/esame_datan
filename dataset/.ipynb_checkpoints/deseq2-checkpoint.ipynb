{
 "cells": [
  {
   "cell_type": "code",
   "execution_count": 1,
   "id": "d3e65201-a9d4-4933-b36e-5bf20b3a205c",
   "metadata": {
    "tags": []
   },
   "outputs": [
    {
     "data": {
      "text/html": [
       "<table class=\"dataframe\">\n",
       "<caption>A matrix: 6 × 9 of type int</caption>\n",
       "<thead>\n",
       "\t<tr><th></th><th scope=col>PC9.DMSO.1_Cov.1</th><th scope=col>PC9.DMSO.2_Cov.1</th><th scope=col>PC9.DMSO.3_Cov.1</th><th scope=col>PC9.osi.DTP.1_Cov.2</th><th scope=col>PC9.osi.DTP.2_Cov.2</th><th scope=col>PC9.osi.DTP.3_Cov.2</th><th scope=col>PC9.osi.acute.1_Cov.3</th><th scope=col>PC9.osi.acute.2_Cov.3</th><th scope=col>PC9.osi.acute.3_Cov.3</th></tr>\n",
       "</thead>\n",
       "<tbody>\n",
       "\t<tr><th scope=row>A1BG:ENSG00000121410</th><td>  2</td><td>  5</td><td>  4</td><td>  19</td><td>  54</td><td>  16</td><td>   8</td><td>  15</td><td>   5</td></tr>\n",
       "\t<tr><th scope=row>A1CF:ENSG00000148584</th><td>  1</td><td>  4</td><td>  2</td><td>  14</td><td>   7</td><td>   9</td><td>   4</td><td>  10</td><td>   2</td></tr>\n",
       "\t<tr><th scope=row>A2M:ENSG00000175899</th><td>  8</td><td>  0</td><td>  0</td><td>   0</td><td>  33</td><td>   7</td><td>  14</td><td>   0</td><td>   0</td></tr>\n",
       "\t<tr><th scope=row>A2ML1:ENSG00000166535</th><td>122</td><td>120</td><td> 83</td><td> 723</td><td> 993</td><td> 912</td><td> 167</td><td> 245</td><td> 244</td></tr>\n",
       "\t<tr><th scope=row>A3GALT2:ENSG00000184389</th><td>  0</td><td>  0</td><td>  0</td><td>   2</td><td>   0</td><td>   2</td><td>   0</td><td>   1</td><td>   0</td></tr>\n",
       "\t<tr><th scope=row>A4GALT:ENSG00000128274</th><td>293</td><td>427</td><td>311</td><td>2322</td><td>3057</td><td>2822</td><td>1333</td><td>1780</td><td>1424</td></tr>\n",
       "</tbody>\n",
       "</table>\n"
      ],
      "text/latex": [
       "A matrix: 6 × 9 of type int\n",
       "\\begin{tabular}{r|lllllllll}\n",
       "  & PC9.DMSO.1\\_Cov.1 & PC9.DMSO.2\\_Cov.1 & PC9.DMSO.3\\_Cov.1 & PC9.osi.DTP.1\\_Cov.2 & PC9.osi.DTP.2\\_Cov.2 & PC9.osi.DTP.3\\_Cov.2 & PC9.osi.acute.1\\_Cov.3 & PC9.osi.acute.2\\_Cov.3 & PC9.osi.acute.3\\_Cov.3\\\\\n",
       "\\hline\n",
       "\tA1BG:ENSG00000121410 &   2 &   5 &   4 &   19 &   54 &   16 &    8 &   15 &    5\\\\\n",
       "\tA1CF:ENSG00000148584 &   1 &   4 &   2 &   14 &    7 &    9 &    4 &   10 &    2\\\\\n",
       "\tA2M:ENSG00000175899 &   8 &   0 &   0 &    0 &   33 &    7 &   14 &    0 &    0\\\\\n",
       "\tA2ML1:ENSG00000166535 & 122 & 120 &  83 &  723 &  993 &  912 &  167 &  245 &  244\\\\\n",
       "\tA3GALT2:ENSG00000184389 &   0 &   0 &   0 &    2 &    0 &    2 &    0 &    1 &    0\\\\\n",
       "\tA4GALT:ENSG00000128274 & 293 & 427 & 311 & 2322 & 3057 & 2822 & 1333 & 1780 & 1424\\\\\n",
       "\\end{tabular}\n"
      ],
      "text/markdown": [
       "\n",
       "A matrix: 6 × 9 of type int\n",
       "\n",
       "| <!--/--> | PC9.DMSO.1_Cov.1 | PC9.DMSO.2_Cov.1 | PC9.DMSO.3_Cov.1 | PC9.osi.DTP.1_Cov.2 | PC9.osi.DTP.2_Cov.2 | PC9.osi.DTP.3_Cov.2 | PC9.osi.acute.1_Cov.3 | PC9.osi.acute.2_Cov.3 | PC9.osi.acute.3_Cov.3 |\n",
       "|---|---|---|---|---|---|---|---|---|---|\n",
       "| A1BG:ENSG00000121410 |   2 |   5 |   4 |   19 |   54 |   16 |    8 |   15 |    5 |\n",
       "| A1CF:ENSG00000148584 |   1 |   4 |   2 |   14 |    7 |    9 |    4 |   10 |    2 |\n",
       "| A2M:ENSG00000175899 |   8 |   0 |   0 |    0 |   33 |    7 |   14 |    0 |    0 |\n",
       "| A2ML1:ENSG00000166535 | 122 | 120 |  83 |  723 |  993 |  912 |  167 |  245 |  244 |\n",
       "| A3GALT2:ENSG00000184389 |   0 |   0 |   0 |    2 |    0 |    2 |    0 |    1 |    0 |\n",
       "| A4GALT:ENSG00000128274 | 293 | 427 | 311 | 2322 | 3057 | 2822 | 1333 | 1780 | 1424 |\n",
       "\n"
      ],
      "text/plain": [
       "                        PC9.DMSO.1_Cov.1 PC9.DMSO.2_Cov.1 PC9.DMSO.3_Cov.1\n",
       "A1BG:ENSG00000121410      2                5                4             \n",
       "A1CF:ENSG00000148584      1                4                2             \n",
       "A2M:ENSG00000175899       8                0                0             \n",
       "A2ML1:ENSG00000166535   122              120               83             \n",
       "A3GALT2:ENSG00000184389   0                0                0             \n",
       "A4GALT:ENSG00000128274  293              427              311             \n",
       "                        PC9.osi.DTP.1_Cov.2 PC9.osi.DTP.2_Cov.2\n",
       "A1BG:ENSG00000121410      19                  54               \n",
       "A1CF:ENSG00000148584      14                   7               \n",
       "A2M:ENSG00000175899        0                  33               \n",
       "A2ML1:ENSG00000166535    723                 993               \n",
       "A3GALT2:ENSG00000184389    2                   0               \n",
       "A4GALT:ENSG00000128274  2322                3057               \n",
       "                        PC9.osi.DTP.3_Cov.2 PC9.osi.acute.1_Cov.3\n",
       "A1BG:ENSG00000121410      16                   8                 \n",
       "A1CF:ENSG00000148584       9                   4                 \n",
       "A2M:ENSG00000175899        7                  14                 \n",
       "A2ML1:ENSG00000166535    912                 167                 \n",
       "A3GALT2:ENSG00000184389    2                   0                 \n",
       "A4GALT:ENSG00000128274  2822                1333                 \n",
       "                        PC9.osi.acute.2_Cov.3 PC9.osi.acute.3_Cov.3\n",
       "A1BG:ENSG00000121410      15                     5                 \n",
       "A1CF:ENSG00000148584      10                     2                 \n",
       "A2M:ENSG00000175899        0                     0                 \n",
       "A2ML1:ENSG00000166535    245                   244                 \n",
       "A3GALT2:ENSG00000184389    1                     0                 \n",
       "A4GALT:ENSG00000128274  1780                  1424                 "
      ]
     },
     "metadata": {},
     "output_type": "display_data"
    }
   ],
   "source": [
    "cts <- as.matrix(read.table(\"dataset/pc9_wo_w_osi.tsv\", sep=\"\\t\", header = T, row.names=1)) \n",
    "head(cts)"
   ]
  },
  {
   "cell_type": "code",
   "execution_count": 2,
   "id": "10c6f003-39f9-4054-8063-d66f226ef9c3",
   "metadata": {
    "tags": []
   },
   "outputs": [],
   "source": [
    "cond <- matrix(colnames(cts))\n",
    "rownames(cond) <- colnames(cts)\n",
    "colnames(cond) <- \"condition\""
   ]
  },
  {
   "cell_type": "code",
   "execution_count": 3,
   "id": "f6a8aad4-7761-4915-9841-d1a4060e13f6",
   "metadata": {
    "tags": []
   },
   "outputs": [
    {
     "data": {
      "text/html": [
       "<table class=\"dataframe\">\n",
       "<caption>A matrix: 9 × 1 of type chr</caption>\n",
       "<thead>\n",
       "\t<tr><th></th><th scope=col>condition</th></tr>\n",
       "</thead>\n",
       "<tbody>\n",
       "\t<tr><th scope=row>PC9.DMSO.1_Cov.1</th><td>PC9.DMSO.1_Cov.1     </td></tr>\n",
       "\t<tr><th scope=row>PC9.DMSO.2_Cov.1</th><td>PC9.DMSO.2_Cov.1     </td></tr>\n",
       "\t<tr><th scope=row>PC9.DMSO.3_Cov.1</th><td>PC9.DMSO.3_Cov.1     </td></tr>\n",
       "\t<tr><th scope=row>PC9.osi.DTP.1_Cov.2</th><td>PC9.osi.DTP.1_Cov.2  </td></tr>\n",
       "\t<tr><th scope=row>PC9.osi.DTP.2_Cov.2</th><td>PC9.osi.DTP.2_Cov.2  </td></tr>\n",
       "\t<tr><th scope=row>PC9.osi.DTP.3_Cov.2</th><td>PC9.osi.DTP.3_Cov.2  </td></tr>\n",
       "\t<tr><th scope=row>PC9.osi.acute.1_Cov.3</th><td>PC9.osi.acute.1_Cov.3</td></tr>\n",
       "\t<tr><th scope=row>PC9.osi.acute.2_Cov.3</th><td>PC9.osi.acute.2_Cov.3</td></tr>\n",
       "\t<tr><th scope=row>PC9.osi.acute.3_Cov.3</th><td>PC9.osi.acute.3_Cov.3</td></tr>\n",
       "</tbody>\n",
       "</table>\n"
      ],
      "text/latex": [
       "A matrix: 9 × 1 of type chr\n",
       "\\begin{tabular}{r|l}\n",
       "  & condition\\\\\n",
       "\\hline\n",
       "\tPC9.DMSO.1\\_Cov.1 & PC9.DMSO.1\\_Cov.1     \\\\\n",
       "\tPC9.DMSO.2\\_Cov.1 & PC9.DMSO.2\\_Cov.1     \\\\\n",
       "\tPC9.DMSO.3\\_Cov.1 & PC9.DMSO.3\\_Cov.1     \\\\\n",
       "\tPC9.osi.DTP.1\\_Cov.2 & PC9.osi.DTP.1\\_Cov.2  \\\\\n",
       "\tPC9.osi.DTP.2\\_Cov.2 & PC9.osi.DTP.2\\_Cov.2  \\\\\n",
       "\tPC9.osi.DTP.3\\_Cov.2 & PC9.osi.DTP.3\\_Cov.2  \\\\\n",
       "\tPC9.osi.acute.1\\_Cov.3 & PC9.osi.acute.1\\_Cov.3\\\\\n",
       "\tPC9.osi.acute.2\\_Cov.3 & PC9.osi.acute.2\\_Cov.3\\\\\n",
       "\tPC9.osi.acute.3\\_Cov.3 & PC9.osi.acute.3\\_Cov.3\\\\\n",
       "\\end{tabular}\n"
      ],
      "text/markdown": [
       "\n",
       "A matrix: 9 × 1 of type chr\n",
       "\n",
       "| <!--/--> | condition |\n",
       "|---|---|\n",
       "| PC9.DMSO.1_Cov.1 | PC9.DMSO.1_Cov.1      |\n",
       "| PC9.DMSO.2_Cov.1 | PC9.DMSO.2_Cov.1      |\n",
       "| PC9.DMSO.3_Cov.1 | PC9.DMSO.3_Cov.1      |\n",
       "| PC9.osi.DTP.1_Cov.2 | PC9.osi.DTP.1_Cov.2   |\n",
       "| PC9.osi.DTP.2_Cov.2 | PC9.osi.DTP.2_Cov.2   |\n",
       "| PC9.osi.DTP.3_Cov.2 | PC9.osi.DTP.3_Cov.2   |\n",
       "| PC9.osi.acute.1_Cov.3 | PC9.osi.acute.1_Cov.3 |\n",
       "| PC9.osi.acute.2_Cov.3 | PC9.osi.acute.2_Cov.3 |\n",
       "| PC9.osi.acute.3_Cov.3 | PC9.osi.acute.3_Cov.3 |\n",
       "\n"
      ],
      "text/plain": [
       "                      condition            \n",
       "PC9.DMSO.1_Cov.1      PC9.DMSO.1_Cov.1     \n",
       "PC9.DMSO.2_Cov.1      PC9.DMSO.2_Cov.1     \n",
       "PC9.DMSO.3_Cov.1      PC9.DMSO.3_Cov.1     \n",
       "PC9.osi.DTP.1_Cov.2   PC9.osi.DTP.1_Cov.2  \n",
       "PC9.osi.DTP.2_Cov.2   PC9.osi.DTP.2_Cov.2  \n",
       "PC9.osi.DTP.3_Cov.2   PC9.osi.DTP.3_Cov.2  \n",
       "PC9.osi.acute.1_Cov.3 PC9.osi.acute.1_Cov.3\n",
       "PC9.osi.acute.2_Cov.3 PC9.osi.acute.2_Cov.3\n",
       "PC9.osi.acute.3_Cov.3 PC9.osi.acute.3_Cov.3"
      ]
     },
     "metadata": {},
     "output_type": "display_data"
    }
   ],
   "source": [
    "cond"
   ]
  },
  {
   "cell_type": "code",
   "execution_count": 4,
   "id": "cdb69e80-3649-4d95-a304-8183ec36b004",
   "metadata": {
    "tags": []
   },
   "outputs": [],
   "source": [
    "cond[c(1:3),] <- \"control\"\n",
    "cond[c(4:6),] <- \"DTP\"\n",
    "cond[c(7:9),] <- \"acute\""
   ]
  },
  {
   "cell_type": "code",
   "execution_count": 5,
   "id": "d513823a-ae48-4904-bc8b-bd53290d8095",
   "metadata": {
    "tags": []
   },
   "outputs": [
    {
     "data": {
      "text/html": [
       "<table class=\"dataframe\">\n",
       "<caption>A matrix: 9 × 1 of type chr</caption>\n",
       "<thead>\n",
       "\t<tr><th></th><th scope=col>condition</th></tr>\n",
       "</thead>\n",
       "<tbody>\n",
       "\t<tr><th scope=row>PC9.DMSO.1_Cov.1</th><td>control</td></tr>\n",
       "\t<tr><th scope=row>PC9.DMSO.2_Cov.1</th><td>control</td></tr>\n",
       "\t<tr><th scope=row>PC9.DMSO.3_Cov.1</th><td>control</td></tr>\n",
       "\t<tr><th scope=row>PC9.osi.DTP.1_Cov.2</th><td>DTP    </td></tr>\n",
       "\t<tr><th scope=row>PC9.osi.DTP.2_Cov.2</th><td>DTP    </td></tr>\n",
       "\t<tr><th scope=row>PC9.osi.DTP.3_Cov.2</th><td>DTP    </td></tr>\n",
       "\t<tr><th scope=row>PC9.osi.acute.1_Cov.3</th><td>acute  </td></tr>\n",
       "\t<tr><th scope=row>PC9.osi.acute.2_Cov.3</th><td>acute  </td></tr>\n",
       "\t<tr><th scope=row>PC9.osi.acute.3_Cov.3</th><td>acute  </td></tr>\n",
       "</tbody>\n",
       "</table>\n"
      ],
      "text/latex": [
       "A matrix: 9 × 1 of type chr\n",
       "\\begin{tabular}{r|l}\n",
       "  & condition\\\\\n",
       "\\hline\n",
       "\tPC9.DMSO.1\\_Cov.1 & control\\\\\n",
       "\tPC9.DMSO.2\\_Cov.1 & control\\\\\n",
       "\tPC9.DMSO.3\\_Cov.1 & control\\\\\n",
       "\tPC9.osi.DTP.1\\_Cov.2 & DTP    \\\\\n",
       "\tPC9.osi.DTP.2\\_Cov.2 & DTP    \\\\\n",
       "\tPC9.osi.DTP.3\\_Cov.2 & DTP    \\\\\n",
       "\tPC9.osi.acute.1\\_Cov.3 & acute  \\\\\n",
       "\tPC9.osi.acute.2\\_Cov.3 & acute  \\\\\n",
       "\tPC9.osi.acute.3\\_Cov.3 & acute  \\\\\n",
       "\\end{tabular}\n"
      ],
      "text/markdown": [
       "\n",
       "A matrix: 9 × 1 of type chr\n",
       "\n",
       "| <!--/--> | condition |\n",
       "|---|---|\n",
       "| PC9.DMSO.1_Cov.1 | control |\n",
       "| PC9.DMSO.2_Cov.1 | control |\n",
       "| PC9.DMSO.3_Cov.1 | control |\n",
       "| PC9.osi.DTP.1_Cov.2 | DTP     |\n",
       "| PC9.osi.DTP.2_Cov.2 | DTP     |\n",
       "| PC9.osi.DTP.3_Cov.2 | DTP     |\n",
       "| PC9.osi.acute.1_Cov.3 | acute   |\n",
       "| PC9.osi.acute.2_Cov.3 | acute   |\n",
       "| PC9.osi.acute.3_Cov.3 | acute   |\n",
       "\n"
      ],
      "text/plain": [
       "                      condition\n",
       "PC9.DMSO.1_Cov.1      control  \n",
       "PC9.DMSO.2_Cov.1      control  \n",
       "PC9.DMSO.3_Cov.1      control  \n",
       "PC9.osi.DTP.1_Cov.2   DTP      \n",
       "PC9.osi.DTP.2_Cov.2   DTP      \n",
       "PC9.osi.DTP.3_Cov.2   DTP      \n",
       "PC9.osi.acute.1_Cov.3 acute    \n",
       "PC9.osi.acute.2_Cov.3 acute    \n",
       "PC9.osi.acute.3_Cov.3 acute    "
      ]
     },
     "metadata": {},
     "output_type": "display_data"
    }
   ],
   "source": [
    "coldata <- cond\n",
    "coldata"
   ]
  },
  {
   "cell_type": "code",
   "execution_count": 6,
   "id": "03175ded-1f90-44cd-ba4f-c0b1506ddce8",
   "metadata": {
    "tags": []
   },
   "outputs": [
    {
     "name": "stderr",
     "output_type": "stream",
     "text": [
      "Loading required package: S4Vectors\n",
      "\n",
      "Loading required package: stats4\n",
      "\n",
      "Loading required package: BiocGenerics\n",
      "\n",
      "\n",
      "Attaching package: ‘BiocGenerics’\n",
      "\n",
      "\n",
      "The following objects are masked from ‘package:stats’:\n",
      "\n",
      "    IQR, mad, sd, var, xtabs\n",
      "\n",
      "\n",
      "The following objects are masked from ‘package:base’:\n",
      "\n",
      "    Filter, Find, Map, Position, Reduce, anyDuplicated, append,\n",
      "    as.data.frame, basename, cbind, colnames, dirname, do.call,\n",
      "    duplicated, eval, evalq, get, grep, grepl, intersect, is.unsorted,\n",
      "    lapply, mapply, match, mget, order, paste, pmax, pmax.int, pmin,\n",
      "    pmin.int, rank, rbind, rownames, sapply, setdiff, sort, table,\n",
      "    tapply, union, unique, unsplit, which.max, which.min\n",
      "\n",
      "\n",
      "\n",
      "Attaching package: ‘S4Vectors’\n",
      "\n",
      "\n",
      "The following objects are masked from ‘package:base’:\n",
      "\n",
      "    I, expand.grid, unname\n",
      "\n",
      "\n",
      "Loading required package: IRanges\n",
      "\n",
      "Loading required package: GenomicRanges\n",
      "\n",
      "Loading required package: GenomeInfoDb\n",
      "\n",
      "Loading required package: SummarizedExperiment\n",
      "\n",
      "Loading required package: MatrixGenerics\n",
      "\n",
      "Loading required package: matrixStats\n",
      "\n",
      "\n",
      "Attaching package: ‘MatrixGenerics’\n",
      "\n",
      "\n",
      "The following objects are masked from ‘package:matrixStats’:\n",
      "\n",
      "    colAlls, colAnyNAs, colAnys, colAvgsPerRowSet, colCollapse,\n",
      "    colCounts, colCummaxs, colCummins, colCumprods, colCumsums,\n",
      "    colDiffs, colIQRDiffs, colIQRs, colLogSumExps, colMadDiffs,\n",
      "    colMads, colMaxs, colMeans2, colMedians, colMins, colOrderStats,\n",
      "    colProds, colQuantiles, colRanges, colRanks, colSdDiffs, colSds,\n",
      "    colSums2, colTabulates, colVarDiffs, colVars, colWeightedMads,\n",
      "    colWeightedMeans, colWeightedMedians, colWeightedSds,\n",
      "    colWeightedVars, rowAlls, rowAnyNAs, rowAnys, rowAvgsPerColSet,\n",
      "    rowCollapse, rowCounts, rowCummaxs, rowCummins, rowCumprods,\n",
      "    rowCumsums, rowDiffs, rowIQRDiffs, rowIQRs, rowLogSumExps,\n",
      "    rowMadDiffs, rowMads, rowMaxs, rowMeans2, rowMedians, rowMins,\n",
      "    rowOrderStats, rowProds, rowQuantiles, rowRanges, rowRanks,\n",
      "    rowSdDiffs, rowSds, rowSums2, rowTabulates, rowVarDiffs, rowVars,\n",
      "    rowWeightedMads, rowWeightedMeans, rowWeightedMedians,\n",
      "    rowWeightedSds, rowWeightedVars\n",
      "\n",
      "\n",
      "Loading required package: Biobase\n",
      "\n",
      "Welcome to Bioconductor\n",
      "\n",
      "    Vignettes contain introductory material; view with\n",
      "    'browseVignettes()'. To cite Bioconductor, see\n",
      "    'citation(\"Biobase\")', and for packages 'citation(\"pkgname\")'.\n",
      "\n",
      "\n",
      "\n",
      "Attaching package: ‘Biobase’\n",
      "\n",
      "\n",
      "The following object is masked from ‘package:MatrixGenerics’:\n",
      "\n",
      "    rowMedians\n",
      "\n",
      "\n",
      "The following objects are masked from ‘package:matrixStats’:\n",
      "\n",
      "    anyMissing, rowMedians\n",
      "\n",
      "\n",
      "Warning message in DESeqDataSet(se, design = design, ignoreRank):\n",
      "“some variables in design formula are characters, converting to factors”\n"
     ]
    }
   ],
   "source": [
    "library(\"DESeq2\")\n",
    "dds <- DESeqDataSetFromMatrix(countData = cts,\n",
    "                              colData = coldata,\n",
    "                              design = ~ condition)"
   ]
  },
  {
   "cell_type": "code",
   "execution_count": 7,
   "id": "bd10c35b-9589-48e9-8482-7294a9571549",
   "metadata": {
    "tags": []
   },
   "outputs": [
    {
     "name": "stderr",
     "output_type": "stream",
     "text": [
      "estimating size factors\n",
      "\n",
      "estimating dispersions\n",
      "\n",
      "gene-wise dispersion estimates\n",
      "\n",
      "mean-dispersion relationship\n",
      "\n",
      "final dispersion estimates\n",
      "\n",
      "fitting model and testing\n",
      "\n"
     ]
    }
   ],
   "source": [
    "dds <- DESeq(dds)"
   ]
  },
  {
   "cell_type": "code",
   "execution_count": 8,
   "id": "d74c19a8-8452-48b9-903a-04dc3f12c3e7",
   "metadata": {
    "tags": []
   },
   "outputs": [],
   "source": [
    "res1 <- results(dds, contrast=c(\"condition\",\"control\",\"DTP\"))\n",
    "write.table(res1, \"/sharedFolder/less8_ex/filter_ctrl_dtp.tsv\", sep=\"\\t\", col.names = NA)"
   ]
  },
  {
   "cell_type": "code",
   "execution_count": 9,
   "id": "e6291c18-975f-422b-85b9-3b195ba44b9d",
   "metadata": {
    "tags": []
   },
   "outputs": [],
   "source": [
    "res2 <- results(dds, contrast=c(\"condition\",\"control\",\"acute\"))\n",
    "write.table(res2, \"/sharedFolder/less8_ex/filter_ctrl_acute.tsv\", sep=\"\\t\", col.names = NA)"
   ]
  },
  {
   "cell_type": "code",
   "execution_count": null,
   "id": "2eeb5b8c-f5fc-4f00-a7d3-4306e48c66c5",
   "metadata": {
    "tags": []
   },
   "outputs": [],
   "source": [
    "res1[res1$padj <= 0.05 & res1$log2FoldChange <= 1 & res1$log2FoldChange >= -1,]"
   ]
  },
  {
   "cell_type": "code",
   "execution_count": 39,
   "id": "ebaee2c4-3686-43a8-939f-e002b2ae02de",
   "metadata": {
    "collapsed": true,
    "jupyter": {
     "outputs_hidden": true
    },
    "tags": []
   },
   "outputs": [
    {
     "data": {
      "text/html": [
       "18774"
      ],
      "text/latex": [
       "18774"
      ],
      "text/markdown": [
       "18774"
      ],
      "text/plain": [
       "[1] 18774"
      ]
     },
     "metadata": {},
     "output_type": "display_data"
    },
    {
     "data": {
      "text/html": [
       "5905"
      ],
      "text/latex": [
       "5905"
      ],
      "text/markdown": [
       "5905"
      ],
      "text/plain": [
       "[1] 5905"
      ]
     },
     "metadata": {},
     "output_type": "display_data"
    },
    {
     "data": {
      "text/plain": [
       "log2 fold change (MLE): condition control vs DTP \n",
       "Wald test p-value: condition control vs DTP \n",
       "DataFrame with 6 rows and 6 columns\n",
       "                       baseMean log2FoldChange     lfcSE      stat      pvalue\n",
       "                      <numeric>      <numeric> <numeric> <numeric>   <numeric>\n",
       "AAAS:ENSG00000094914   2322.551       0.311229 0.0747973   4.16097 3.16900e-05\n",
       "AACS:ENSG00000081760   2023.161       0.258455 0.0832888   3.10312 1.91492e-03\n",
       "AADAT:ENSG00000109576   188.165       0.663306 0.2238931   2.96260 3.05053e-03\n",
       "AAGAB:ENSG00000103591  2966.385       0.819285 0.0870605   9.41053 4.93663e-21\n",
       "AAMP:ENSG00000127837   7454.285       0.380732 0.0592881   6.42173 1.34734e-10\n",
       "AARS1:ENSG00000090861  5865.583       0.296016 0.0715736   4.13583 3.53677e-05\n",
       "                             padj\n",
       "                        <numeric>\n",
       "AAAS:ENSG00000094914  7.67916e-05\n",
       "AACS:ENSG00000081760  3.77408e-03\n",
       "AADAT:ENSG00000109576 5.84121e-03\n",
       "AAGAB:ENSG00000103591 3.40074e-20\n",
       "AAMP:ENSG00000127837  5.01533e-10\n",
       "AARS1:ENSG00000090861 8.53953e-05"
      ]
     },
     "metadata": {},
     "output_type": "display_data"
    }
   ],
   "source": [
    "# so this thing is removing the rows that do not fit the parameters from the output\n",
    "# to make a venn diagram with what is left\n",
    "nrow(res1)\n",
    "res <- res1\n",
    "short_res <- res[is.na(res1$padj) == 0,]\n",
    "short_res <- short_res[short_res$padj <= 0.05,]\n",
    "short_res <- short_res[short_res$log2FoldChange <= 1,]\n",
    "short_res <- short_res[short_res$log2FoldChange >= -1,]\n",
    "nrow(short_res)\n"
   ]
  },
  {
   "cell_type": "code",
   "execution_count": null,
   "id": "5bb1ca1c-3796-4101-b816-281ba2dc9bc6",
   "metadata": {},
   "outputs": [],
   "source": [
    "# removing gene id and leaving gene symbol\n",
    "\n",
    "write.table(short_res, \"/sharedFolder/less8_ex/short_ctrl_chron.tsv\", sep=\"\\t\", col.names = NA)"
   ]
  },
  {
   "cell_type": "code",
   "execution_count": 42,
   "id": "5c1d33f2-fe85-4226-a7e3-cf56c9bcd627",
   "metadata": {
    "tags": []
   },
   "outputs": [
    {
     "data": {
      "text/html": [
       "18774"
      ],
      "text/latex": [
       "18774"
      ],
      "text/markdown": [
       "18774"
      ],
      "text/plain": [
       "[1] 18774"
      ]
     },
     "metadata": {},
     "output_type": "display_data"
    },
    {
     "data": {
      "text/html": [
       "5693"
      ],
      "text/latex": [
       "5693"
      ],
      "text/markdown": [
       "5693"
      ],
      "text/plain": [
       "[1] 5693"
      ]
     },
     "metadata": {},
     "output_type": "display_data"
    }
   ],
   "source": [
    "nrow(res2)\n",
    "res <- res2\n",
    "short_res <- res[is.na(res1$padj) == 0,]\n",
    "short_res <- short_res[short_res$padj <= 0.05,]\n",
    "short_res <- short_res[short_res$log2FoldChange <= 1,]\n",
    "short_res <- short_res[short_res$log2FoldChange >= -1,]\n",
    "write.table(short_res, \"/sharedFolder/less8_ex/short_ctrl_acute.tsv\", sep=\"\\t\", col.names = NA)\n",
    "nrow(short_res)"
   ]
  },
  {
   "cell_type": "code",
   "execution_count": 43,
   "id": "a16c6d69-662b-4f86-8dbd-0dd3003e3b21",
   "metadata": {
    "tags": []
   },
   "outputs": [
    {
     "ename": "ERROR",
     "evalue": "Error in str_split(row.names(short_res), \":\"): could not find function \"str_split\"\n",
     "output_type": "error",
     "traceback": [
      "Error in str_split(row.names(short_res), \":\"): could not find function \"str_split\"\nTraceback:\n"
     ]
    }
   ],
   "source": [
    "str_split(row.names(short_res), \":\")"
   ]
  },
  {
   "cell_type": "code",
   "execution_count": null,
   "id": "acd8c206-92bb-4336-9013-91c6d58ef8fd",
   "metadata": {},
   "outputs": [],
   "source": []
  }
 ],
 "metadata": {
  "kernelspec": {
   "display_name": "R",
   "language": "R",
   "name": "ir"
  },
  "language_info": {
   "codemirror_mode": "r",
   "file_extension": ".r",
   "mimetype": "text/x-r-source",
   "name": "R",
   "pygments_lexer": "r",
   "version": "4.1.1"
  }
 },
 "nbformat": 4,
 "nbformat_minor": 5
}
