{
 "cells": [
  {
   "cell_type": "code",
   "execution_count": 1,
   "id": "302dad97-fa0d-4259-8999-78db03f0327a",
   "metadata": {
    "tags": []
   },
   "outputs": [
    {
     "name": "stderr",
     "output_type": "stream",
     "text": [
      "Loading required package: limma\n",
      "\n"
     ]
    }
   ],
   "source": [
    "# logcpm ctrl\n",
    "# tsne and umap require log cpm\n",
    "\n",
    "library(edgeR)\n",
    "library(limma)\n",
    "# sessionInfo() do not remember what this does gives you the r version \n",
    "mymat <- read.table(\"/sharedFolder/less7_ex/saver_ctrl.csv\", sep=\",\", header = TRUE, row.names=1) \n",
    "cpm_res <- cpm(mymat)\n",
    "log2_cpm_res = log2(cpm_res + 1)\n",
    "# mi serve in log quindi tolgo questa riga\n",
    "# write.table(cpm_res, \"/sharedFolder/less7_ex/saver_ctrl.tsv\", sep=\"\\t\", col.names = NA)\n",
    "# IMPORTANTE!!! metti col.names = NA in write.table\n",
    "write.table(log2_cpm_res, \"/sharedFolder/less7_ex/log2_cpm_ctrl.tsv\", sep=\"\\t\", col.names = NA)"
   ]
  },
  {
   "cell_type": "code",
   "execution_count": 2,
   "id": "8d145451-7bf3-4ac0-8184-6b61f1bd682d",
   "metadata": {
    "tags": []
   },
   "outputs": [],
   "source": [
    "# logcpm osi\n",
    "# tsne and umap require log cpm\n",
    "\n",
    "library(edgeR)\n",
    "library(limma)\n",
    "# sessionInfo() do not remember what this does gives you the r version \n",
    "mymat <- read.table(\"/sharedFolder/less7_ex/saver_osi.csv\", sep=\",\", header = TRUE, row.names=1) \n",
    "cpm_res <- cpm(mymat)\n",
    "log2_cpm_res = log2(cpm_res + 1)\n",
    "# mi serve in log quindi tolgo questa riga\n",
    "# write.table(cpm_res, \"/sharedFolder/less7_ex/saver_ctrl.tsv\", sep=\"\\t\", col.names = NA)\n",
    "# IMPORTANTE!!! metti col.names = NA in write.table\n",
    "write.table(log2_cpm_res, \"/sharedFolder/less7_ex/log2_cpm_osi.tsv\", sep=\"\\t\", col.names = NA)"
   ]
  },
  {
   "cell_type": "code",
   "execution_count": 3,
   "id": "ebf0cb60-0e25-40a2-9cd4-a6ff442725cd",
   "metadata": {
    "tags": []
   },
   "outputs": [],
   "source": [
    "#pca dei due esperimenti insieme\n",
    "\n",
    "source(\"/sharedFolder/docker4seq-master/R/pca.R\")\n",
    "pca(\n",
    "    experiment.table = \"./pc9_wo_w_osi.tsv\", #pca does not require cpm conversion ig\n",
    "    type = \"counts\",\n",
    "    covariatesInNames = TRUE,\n",
    "    samplesName = TRUE,\n",
    "    principal.components = c(1, 2),\n",
    "    legend.position = \"bottom\",\n",
    "    pdf = TRUE,\n",
    "    output.folder = getwd()\n",
    ")"
   ]
  },
  {
   "cell_type": "code",
   "execution_count": 4,
   "id": "bf9169fc-4424-4e5a-9a4c-6fb70329331f",
   "metadata": {
    "tags": []
   },
   "outputs": [
    {
     "data": {
      "text/html": [
       "<strong>png:</strong> 2"
      ],
      "text/latex": [
       "\\textbf{png:} 2"
      ],
      "text/markdown": [
       "**png:** 2"
      ],
      "text/plain": [
       "png \n",
       "  2 "
      ]
     },
     "metadata": {},
     "output_type": "display_data"
    }
   ],
   "source": [
    "# tsne di ctrl\n",
    "\n",
    "library(Rtsne)\n",
    "library(ggplot2)\n",
    "# TSNE requires logcpm conversion and translation\n",
    "matrix <- as.matrix(read.table(\"log2_cpm_ctrl.tsv\", sep = \"\\t\", header = TRUE, row.names = 1)) \n",
    "tsne.out <- Rtsne(t(matrix), pca = FALSE, perplexity = 30) # Run TSNE\n",
    "f <- data.frame(x = as.numeric(tsne.out$Y[,1]), y = as.numeric(tsne.out$Y[,2]))\n",
    "# plotting tsne\n",
    "sp <- ggplot(f, aes(x=x, y=y)) + geom_point(pch = 19, cex = 0.3)\n",
    "pdf(\"tsne_ctrl_noPCA.pdf\")\n",
    "print(sp)\n",
    "dev.off()"
   ]
  },
  {
   "cell_type": "code",
   "execution_count": 5,
   "id": "869521c4-75a7-4f84-9acc-6bdbd4d44d49",
   "metadata": {
    "tags": []
   },
   "outputs": [
    {
     "data": {
      "text/html": [
       "<strong>png:</strong> 2"
      ],
      "text/latex": [
       "\\textbf{png:} 2"
      ],
      "text/markdown": [
       "**png:** 2"
      ],
      "text/plain": [
       "png \n",
       "  2 "
      ]
     },
     "metadata": {},
     "output_type": "display_data"
    }
   ],
   "source": [
    "# tsne di osi\n",
    "\n",
    "library(Rtsne)\n",
    "library(umap)\n",
    "library(ggplot2)\n",
    "# TSNE requires logcpm conversion and translation\n",
    "matrix <- as.matrix(read.table(\"log2_cpm_osi.tsv\", sep = \"\\t\", header = TRUE, row.names = 1)) \n",
    "tsne.out <- Rtsne(t(matrix), pca = FALSE, perplexity = 30) # Run TSNE\n",
    "f <- data.frame(x = as.numeric(tsne.out$Y[,1]), y = as.numeric(tsne.out$Y[,2]))\n",
    "# plotting tsne\n",
    "sp <- ggplot(f, aes(x=x, y=y)) + geom_point(pch = 19, cex = 0.3)\n",
    "pdf(\"tsne_osi_noPCA.pdf\")\n",
    "print(sp)\n",
    "dev.off()"
   ]
  },
  {
   "cell_type": "code",
   "execution_count": null,
   "id": "15cb3a2f-99c8-41b3-af17-223ee7eac26b",
   "metadata": {},
   "outputs": [],
   "source": [
    "# UMAP for control\n",
    "tmp <- read.table(\"log2_cpm_ctrl.tsv\", sep = \"\\t\", header = T, row.names = 1)\n",
    "umap.out <- umap(t(tmp), random_state=111, n_epochs = 1000) #remove the random state\n",
    "f <- data.frame(x = as.numeric(umap.out$layout[,1]), y = as.numeric(umap.out$layout [,2]))\n",
    "sp <- ggplot(f, aes(x=x, y=y)) + geom_point(pch = 19, cex = 0.3)\n",
    "pdf(\"ctrl_umap.pdf\")\n",
    "print(sp)\n",
    "dev.off()\n",
    "\n",
    "# UMAP with md and nn parametres\n",
    "umap.out <- umap(t(tmp), random_state = 111, n_epochs = 1000, min_dist = 0.05, n_neighbors = 10) \n",
    "f=data.frame(x=as.numeric(umap.out$layout[,1]), y=as.numeric(umap.out$layout[,2]))\n",
    "sp <- ggplot(f, aes(x=x, y=y)) + geom_point(pch = 19, cex = 0.3)\n",
    "pdf(\"ctrl_umap_md0.05_nn10.pdf\")\n",
    "print(sp)\n",
    "dev.off()"
   ]
  },
  {
   "cell_type": "code",
   "execution_count": 1,
   "id": "47f355da-92a7-457b-8d4f-9744a0fb7c6f",
   "metadata": {
    "tags": []
   },
   "outputs": [
    {
     "data": {
      "text/html": [
       "<strong>png:</strong> 2"
      ],
      "text/latex": [
       "\\textbf{png:} 2"
      ],
      "text/markdown": [
       "**png:** 2"
      ],
      "text/plain": [
       "png \n",
       "  2 "
      ]
     },
     "metadata": {},
     "output_type": "display_data"
    },
    {
     "data": {
      "text/html": [
       "<strong>png:</strong> 2"
      ],
      "text/latex": [
       "\\textbf{png:} 2"
      ],
      "text/markdown": [
       "**png:** 2"
      ],
      "text/plain": [
       "png \n",
       "  2 "
      ]
     },
     "metadata": {},
     "output_type": "display_data"
    }
   ],
   "source": [
    "# UMAP for osi\n",
    "library(Rtsne)\n",
    "library(umap)\n",
    "library(ggplot2)\n",
    "\n",
    "tmp <- read.table(\"log2_cpm_osi.tsv\", sep = \"\\t\", header = T, row.names = 1)\n",
    "umap.out <- umap(t(tmp), random_state=111, n_epochs = 1000) #remove the random state\n",
    "f <- data.frame(x = as.numeric(umap.out$layout[,1]), y = as.numeric(umap.out$layout [,2]))\n",
    "sp <- ggplot(f, aes(x=x, y=y)) + geom_point(pch = 19, cex = 0.3)\n",
    "pdf(\"osi_umap.pdf\")\n",
    "print(sp)\n",
    "dev.off()\n",
    "\n",
    "# UMAP with md and nn parametres\n",
    "umap.out <- umap(t(tmp), random_state = 111, n_epochs = 1000, min_dist = 0.05, n_neighbors = 10) \n",
    "f=data.frame(x=as.numeric(umap.out$layout[,1]), y=as.numeric(umap.out$layout[,2]))\n",
    "sp <- ggplot(f, aes(x=x, y=y)) + geom_point(pch = 19, cex = 0.3)\n",
    "pdf(\"osi_umap_md0.05_nn10.pdf\")\n",
    "print(sp)\n",
    "dev.off()"
   ]
  },
  {
   "cell_type": "code",
   "execution_count": null,
   "id": "d9c945f8-5a80-4653-81cd-d47feddc8675",
   "metadata": {},
   "outputs": [],
   "source": []
  }
 ],
 "metadata": {
  "kernelspec": {
   "display_name": "R",
   "language": "R",
   "name": "ir"
  },
  "language_info": {
   "codemirror_mode": "r",
   "file_extension": ".r",
   "mimetype": "text/x-r-source",
   "name": "R",
   "pygments_lexer": "r",
   "version": "4.1.1"
  }
 },
 "nbformat": 4,
 "nbformat_minor": 5
}
