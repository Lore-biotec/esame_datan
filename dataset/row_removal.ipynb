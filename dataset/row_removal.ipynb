{
 "cells": [
  {
   "cell_type": "code",
   "execution_count": 2,
   "id": "75a0ad40-7aa6-4806-8ddf-99c34f23fc25",
   "metadata": {},
   "outputs": [],
   "source": [
    "df <- read.table(\"/sharedFolder/dataset/GSE230114_count_matrix.tsv\", sep=\"\\t\", header = TRUE, row.names=1) \n",
    "write.table(df[-c(1:4),], \"/sharedFolder/dataset/rowless_GSE230114_count_matrix.tsv\", sep=\"\\t\", col.names = NA)"
   ]
  },
  {
   "cell_type": "code",
   "execution_count": null,
   "id": "a5353b23-79d3-48ef-9063-9d64e646fd35",
   "metadata": {},
   "outputs": [],
   "source": []
  }
 ],
 "metadata": {
  "kernelspec": {
   "display_name": "R",
   "language": "R",
   "name": "ir"
  },
  "language_info": {
   "codemirror_mode": "r",
   "file_extension": ".r",
   "mimetype": "text/x-r-source",
   "name": "R",
   "pygments_lexer": "r",
   "version": "4.1.1"
  }
 },
 "nbformat": 4,
 "nbformat_minor": 5
}
