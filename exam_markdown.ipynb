{
 "cells": [
  {
   "cell_type": "markdown",
   "id": "2cc3bd97-86e2-4dee-b3a5-0250e92bfac2",
   "metadata": {},
   "source": [
    "---\n",
    "output:\n",
    "  html_document:\n",
    "    toc: true\n",
    "    toc_float: true\n",
    "---\n",
    "I suppose this doesn't work in notebooks"
   ]
  },
  {
   "cell_type": "markdown",
   "id": "14f0ff7d-f261-4fae-9c4f-537a7da6fe43",
   "metadata": {},
   "source": [
    "# Introduction\n",
    "\n",
    "\"Five-subunit early endosomal Rab5 and RNA/ribosome intermediary\" (FERRY) is a protein complex capable of acting as a bridge between mRNA and Rab5. Rab5 is a small GTPase protein that plays a key role in regulating membrane trafficking and late-endocytic processes within cells, which makes the FERRY complex a prime candidate for early endosome-mediated mRNA transport. \n",
    "In fact, late endocytic organelles primarily undergo minus-end microtubule-directed motility, whcih would allow to employ them for the transport of mRNA to areas distant from the cell body, such as dendrites and axons in neurons.\n",
    "\n",
    "Selective inactivation of the FERRY subunits may shed more light on the functional role of each of each of these components, and their impact on cell homeostasis especially in dendritic components. \n",
    "\n",
    "# FERRY components\n",
    "In the experiment, selective KO of fy-1, fy-2, fy-4 and fy-5 was perfored. Recent CRYO-EM observations suggest that fy-2 plays a key role as a central scaffolding unit, and possesses a close interaction with fy-4.\n",
    "# Data analysis"
   ]
  },
  {
   "cell_type": "markdown",
   "id": "0e306b7e-a91d-44f2-9cfb-e20d8655ea19",
   "metadata": {
    "tags": []
   },
   "source": [
    "## Count table structure"
   ]
  },
  {
   "cell_type": "markdown",
   "id": "13053ece-91d4-4b1b-81f9-c262492d1470",
   "metadata": {},
   "source": [
    "- The samples are a triplicate of each of the four FERRY component KOs, plus the wt controls:"
   ]
  },
  {
   "cell_type": "code",
   "execution_count": 1,
   "id": "0a84a00b-5b2c-4eec-906f-371bf4654880",
   "metadata": {
    "tags": []
   },
   "outputs": [
    {
     "data": {
      "text/html": [
       "<style>\n",
       ".list-inline {list-style: none; margin:0; padding: 0}\n",
       ".list-inline>li {display: inline-block}\n",
       ".list-inline>li:not(:last-child)::after {content: \"\\00b7\"; padding: 0 .5ex}\n",
       "</style>\n",
       "<ol class=list-inline><li>58178</li><li>15</li></ol>\n"
      ],
      "text/latex": [
       "\\begin{enumerate*}\n",
       "\\item 58178\n",
       "\\item 15\n",
       "\\end{enumerate*}\n"
      ],
      "text/markdown": [
       "1. 58178\n",
       "2. 15\n",
       "\n",
       "\n"
      ],
      "text/plain": [
       "[1] 58178    15"
      ]
     },
     "metadata": {},
     "output_type": "display_data"
    },
    {
     "data": {
      "text/html": [
       "<style>\n",
       ".list-inline {list-style: none; margin:0; padding: 0}\n",
       ".list-inline>li {display: inline-block}\n",
       ".list-inline>li:not(:last-child)::after {content: \"\\00b7\"; padding: 0 .5ex}\n",
       "</style>\n",
       "<ol class=list-inline><li>'fy.1_KO1'</li><li>'fy.1_KO2'</li><li>'fy.1_KO3'</li><li>'fy.2_KO1'</li><li>'fy.2_KO2'</li><li>'fy.2_KO3'</li><li>'fy.4_KO1'</li><li>'fy.4_KO2'</li><li>'fy.4_KO3'</li><li>'fy.5_KO1'</li><li>'fy.5_KO2'</li><li>'fy.5_KO3'</li><li>'wt_1'</li><li>'wt_2'</li><li>'wt_3'</li></ol>\n"
      ],
      "text/latex": [
       "\\begin{enumerate*}\n",
       "\\item 'fy.1\\_KO1'\n",
       "\\item 'fy.1\\_KO2'\n",
       "\\item 'fy.1\\_KO3'\n",
       "\\item 'fy.2\\_KO1'\n",
       "\\item 'fy.2\\_KO2'\n",
       "\\item 'fy.2\\_KO3'\n",
       "\\item 'fy.4\\_KO1'\n",
       "\\item 'fy.4\\_KO2'\n",
       "\\item 'fy.4\\_KO3'\n",
       "\\item 'fy.5\\_KO1'\n",
       "\\item 'fy.5\\_KO2'\n",
       "\\item 'fy.5\\_KO3'\n",
       "\\item 'wt\\_1'\n",
       "\\item 'wt\\_2'\n",
       "\\item 'wt\\_3'\n",
       "\\end{enumerate*}\n"
      ],
      "text/markdown": [
       "1. 'fy.1_KO1'\n",
       "2. 'fy.1_KO2'\n",
       "3. 'fy.1_KO3'\n",
       "4. 'fy.2_KO1'\n",
       "5. 'fy.2_KO2'\n",
       "6. 'fy.2_KO3'\n",
       "7. 'fy.4_KO1'\n",
       "8. 'fy.4_KO2'\n",
       "9. 'fy.4_KO3'\n",
       "10. 'fy.5_KO1'\n",
       "11. 'fy.5_KO2'\n",
       "12. 'fy.5_KO3'\n",
       "13. 'wt_1'\n",
       "14. 'wt_2'\n",
       "15. 'wt_3'\n",
       "\n",
       "\n"
      ],
      "text/plain": [
       " [1] \"fy.1_KO1\" \"fy.1_KO2\" \"fy.1_KO3\" \"fy.2_KO1\" \"fy.2_KO2\" \"fy.2_KO3\"\n",
       " [7] \"fy.4_KO1\" \"fy.4_KO2\" \"fy.4_KO3\" \"fy.5_KO1\" \"fy.5_KO2\" \"fy.5_KO3\"\n",
       "[13] \"wt_1\"     \"wt_2\"     \"wt_3\"    "
      ]
     },
     "metadata": {},
     "output_type": "display_data"
    }
   ],
   "source": [
    "count_table <- read.table(\"/sharedFolder/dataset/GSE230114_count_matrix.tsv\", sep=\"\\t\", header = TRUE, row.names=1)\n",
    "dim(count_table)\n",
    "colnames(count_table)"
   ]
  },
  {
   "cell_type": "markdown",
   "id": "b9202e12-4c8f-417a-bda4-5301b8de2444",
   "metadata": {},
   "source": [
    "- The count table contains additional mapping info at the top four rows which needed to be removed to perform analysis.\n",
    "\n",
    "Before proceeding it is noticeable how the fy.1_KO1 element has more unmapped reads than average indicating perhaps a bad preparation of the sample, which may make it an outlier in the statistial analysis. "
   ]
  },
  {
   "cell_type": "code",
   "execution_count": 2,
   "id": "bc77f39e-c93a-4678-a4c5-0fd4740c9179",
   "metadata": {
    "tags": []
   },
   "outputs": [
    {
     "data": {
      "text/html": [
       "<table class=\"dataframe\">\n",
       "<caption>A data.frame: 6 × 15</caption>\n",
       "<thead>\n",
       "\t<tr><th></th><th scope=col>fy.1_KO1</th><th scope=col>fy.1_KO2</th><th scope=col>fy.1_KO3</th><th scope=col>fy.2_KO1</th><th scope=col>fy.2_KO2</th><th scope=col>fy.2_KO3</th><th scope=col>fy.4_KO1</th><th scope=col>fy.4_KO2</th><th scope=col>fy.4_KO3</th><th scope=col>fy.5_KO1</th><th scope=col>fy.5_KO2</th><th scope=col>fy.5_KO3</th><th scope=col>wt_1</th><th scope=col>wt_2</th><th scope=col>wt_3</th></tr>\n",
       "\t<tr><th></th><th scope=col>&lt;int&gt;</th><th scope=col>&lt;int&gt;</th><th scope=col>&lt;int&gt;</th><th scope=col>&lt;int&gt;</th><th scope=col>&lt;int&gt;</th><th scope=col>&lt;int&gt;</th><th scope=col>&lt;int&gt;</th><th scope=col>&lt;int&gt;</th><th scope=col>&lt;int&gt;</th><th scope=col>&lt;int&gt;</th><th scope=col>&lt;int&gt;</th><th scope=col>&lt;int&gt;</th><th scope=col>&lt;int&gt;</th><th scope=col>&lt;int&gt;</th><th scope=col>&lt;int&gt;</th></tr>\n",
       "</thead>\n",
       "<tbody>\n",
       "\t<tr><th scope=row>N_unmapped</th><td>21501758</td><td>14869105</td><td>13247861</td><td>14494385</td><td>13040253</td><td>11952915</td><td>15222983</td><td>12448629</td><td>13599320</td><td>12440218</td><td>13883415</td><td>12828977</td><td>17359917</td><td>19654977</td><td>17523561</td></tr>\n",
       "\t<tr><th scope=row>N_multimapping</th><td>       0</td><td>       0</td><td>       0</td><td>       0</td><td>       0</td><td>       0</td><td>       0</td><td>       0</td><td>       0</td><td>       0</td><td>       0</td><td>       0</td><td>       0</td><td>       0</td><td>       0</td></tr>\n",
       "\t<tr><th scope=row>N_noFeature</th><td>21469294</td><td>22380469</td><td>24184545</td><td>26413005</td><td>26851984</td><td>27750888</td><td>21915436</td><td>21485648</td><td>21331186</td><td>26289304</td><td>23351477</td><td>21004878</td><td>25005705</td><td>23406843</td><td>21369740</td></tr>\n",
       "\t<tr><th scope=row>N_ambiguous</th><td> 4214196</td><td> 2930260</td><td> 2753066</td><td> 2801228</td><td> 2973540</td><td> 2612770</td><td> 3552453</td><td> 2837547</td><td> 3007814</td><td> 3636922</td><td> 3124712</td><td> 3242532</td><td> 3475218</td><td> 3451936</td><td> 3694677</td></tr>\n",
       "\t<tr><th scope=row>ENSG00000223972</th><td>       0</td><td>       1</td><td>       1</td><td>       0</td><td>       0</td><td>       0</td><td>       0</td><td>       0</td><td>       0</td><td>       0</td><td>       0</td><td>       0</td><td>       0</td><td>       0</td><td>       1</td></tr>\n",
       "\t<tr><th scope=row>ENSG00000227232</th><td>     289</td><td>     274</td><td>     268</td><td>     307</td><td>     287</td><td>     324</td><td>     261</td><td>     234</td><td>     242</td><td>     278</td><td>     278</td><td>     262</td><td>     234</td><td>     258</td><td>     290</td></tr>\n",
       "</tbody>\n",
       "</table>\n"
      ],
      "text/latex": [
       "A data.frame: 6 × 15\n",
       "\\begin{tabular}{r|lllllllllllllll}\n",
       "  & fy.1\\_KO1 & fy.1\\_KO2 & fy.1\\_KO3 & fy.2\\_KO1 & fy.2\\_KO2 & fy.2\\_KO3 & fy.4\\_KO1 & fy.4\\_KO2 & fy.4\\_KO3 & fy.5\\_KO1 & fy.5\\_KO2 & fy.5\\_KO3 & wt\\_1 & wt\\_2 & wt\\_3\\\\\n",
       "  & <int> & <int> & <int> & <int> & <int> & <int> & <int> & <int> & <int> & <int> & <int> & <int> & <int> & <int> & <int>\\\\\n",
       "\\hline\n",
       "\tN\\_unmapped & 21501758 & 14869105 & 13247861 & 14494385 & 13040253 & 11952915 & 15222983 & 12448629 & 13599320 & 12440218 & 13883415 & 12828977 & 17359917 & 19654977 & 17523561\\\\\n",
       "\tN\\_multimapping &        0 &        0 &        0 &        0 &        0 &        0 &        0 &        0 &        0 &        0 &        0 &        0 &        0 &        0 &        0\\\\\n",
       "\tN\\_noFeature & 21469294 & 22380469 & 24184545 & 26413005 & 26851984 & 27750888 & 21915436 & 21485648 & 21331186 & 26289304 & 23351477 & 21004878 & 25005705 & 23406843 & 21369740\\\\\n",
       "\tN\\_ambiguous &  4214196 &  2930260 &  2753066 &  2801228 &  2973540 &  2612770 &  3552453 &  2837547 &  3007814 &  3636922 &  3124712 &  3242532 &  3475218 &  3451936 &  3694677\\\\\n",
       "\tENSG00000223972 &        0 &        1 &        1 &        0 &        0 &        0 &        0 &        0 &        0 &        0 &        0 &        0 &        0 &        0 &        1\\\\\n",
       "\tENSG00000227232 &      289 &      274 &      268 &      307 &      287 &      324 &      261 &      234 &      242 &      278 &      278 &      262 &      234 &      258 &      290\\\\\n",
       "\\end{tabular}\n"
      ],
      "text/markdown": [
       "\n",
       "A data.frame: 6 × 15\n",
       "\n",
       "| <!--/--> | fy.1_KO1 &lt;int&gt; | fy.1_KO2 &lt;int&gt; | fy.1_KO3 &lt;int&gt; | fy.2_KO1 &lt;int&gt; | fy.2_KO2 &lt;int&gt; | fy.2_KO3 &lt;int&gt; | fy.4_KO1 &lt;int&gt; | fy.4_KO2 &lt;int&gt; | fy.4_KO3 &lt;int&gt; | fy.5_KO1 &lt;int&gt; | fy.5_KO2 &lt;int&gt; | fy.5_KO3 &lt;int&gt; | wt_1 &lt;int&gt; | wt_2 &lt;int&gt; | wt_3 &lt;int&gt; |\n",
       "|---|---|---|---|---|---|---|---|---|---|---|---|---|---|---|---|\n",
       "| N_unmapped | 21501758 | 14869105 | 13247861 | 14494385 | 13040253 | 11952915 | 15222983 | 12448629 | 13599320 | 12440218 | 13883415 | 12828977 | 17359917 | 19654977 | 17523561 |\n",
       "| N_multimapping |        0 |        0 |        0 |        0 |        0 |        0 |        0 |        0 |        0 |        0 |        0 |        0 |        0 |        0 |        0 |\n",
       "| N_noFeature | 21469294 | 22380469 | 24184545 | 26413005 | 26851984 | 27750888 | 21915436 | 21485648 | 21331186 | 26289304 | 23351477 | 21004878 | 25005705 | 23406843 | 21369740 |\n",
       "| N_ambiguous |  4214196 |  2930260 |  2753066 |  2801228 |  2973540 |  2612770 |  3552453 |  2837547 |  3007814 |  3636922 |  3124712 |  3242532 |  3475218 |  3451936 |  3694677 |\n",
       "| ENSG00000223972 |        0 |        1 |        1 |        0 |        0 |        0 |        0 |        0 |        0 |        0 |        0 |        0 |        0 |        0 |        1 |\n",
       "| ENSG00000227232 |      289 |      274 |      268 |      307 |      287 |      324 |      261 |      234 |      242 |      278 |      278 |      262 |      234 |      258 |      290 |\n",
       "\n"
      ],
      "text/plain": [
       "                fy.1_KO1 fy.1_KO2 fy.1_KO3 fy.2_KO1 fy.2_KO2 fy.2_KO3 fy.4_KO1\n",
       "N_unmapped      21501758 14869105 13247861 14494385 13040253 11952915 15222983\n",
       "N_multimapping         0        0        0        0        0        0        0\n",
       "N_noFeature     21469294 22380469 24184545 26413005 26851984 27750888 21915436\n",
       "N_ambiguous      4214196  2930260  2753066  2801228  2973540  2612770  3552453\n",
       "ENSG00000223972        0        1        1        0        0        0        0\n",
       "ENSG00000227232      289      274      268      307      287      324      261\n",
       "                fy.4_KO2 fy.4_KO3 fy.5_KO1 fy.5_KO2 fy.5_KO3 wt_1     wt_2    \n",
       "N_unmapped      12448629 13599320 12440218 13883415 12828977 17359917 19654977\n",
       "N_multimapping         0        0        0        0        0        0        0\n",
       "N_noFeature     21485648 21331186 26289304 23351477 21004878 25005705 23406843\n",
       "N_ambiguous      2837547  3007814  3636922  3124712  3242532  3475218  3451936\n",
       "ENSG00000223972        0        0        0        0        0        0        0\n",
       "ENSG00000227232      234      242      278      278      262      234      258\n",
       "                wt_3    \n",
       "N_unmapped      17523561\n",
       "N_multimapping         0\n",
       "N_noFeature     21369740\n",
       "N_ambiguous      3694677\n",
       "ENSG00000223972        1\n",
       "ENSG00000227232      290"
      ]
     },
     "metadata": {},
     "output_type": "display_data"
    }
   ],
   "source": [
    "head(count_table)"
   ]
  },
  {
   "cell_type": "code",
   "execution_count": 3,
   "id": "3c434fe6-cd9e-4a59-b9ca-7389b9690ccd",
   "metadata": {
    "tags": []
   },
   "outputs": [
    {
     "data": {
      "text/html": [
       "<table class=\"dataframe\">\n",
       "<caption>A data.frame: 3 × 6</caption>\n",
       "<thead>\n",
       "\t<tr><th></th><th scope=col>fy.1_KO1</th><th scope=col>fy.1_KO2</th><th scope=col>fy.1_KO3</th><th scope=col>fy.2_KO1</th><th scope=col>fy.2_KO2</th><th scope=col>fy.2_KO3</th></tr>\n",
       "\t<tr><th></th><th scope=col>&lt;int&gt;</th><th scope=col>&lt;int&gt;</th><th scope=col>&lt;int&gt;</th><th scope=col>&lt;int&gt;</th><th scope=col>&lt;int&gt;</th><th scope=col>&lt;int&gt;</th></tr>\n",
       "</thead>\n",
       "<tbody>\n",
       "\t<tr><th scope=row>ENSG00000223972</th><td>  0</td><td>  1</td><td>  1</td><td>  0</td><td>  0</td><td>  0</td></tr>\n",
       "\t<tr><th scope=row>ENSG00000227232</th><td>289</td><td>274</td><td>268</td><td>307</td><td>287</td><td>324</td></tr>\n",
       "\t<tr><th scope=row>ENSG00000278267</th><td>  0</td><td>  0</td><td>  0</td><td>  0</td><td>  0</td><td>  1</td></tr>\n",
       "</tbody>\n",
       "</table>\n"
      ],
      "text/latex": [
       "A data.frame: 3 × 6\n",
       "\\begin{tabular}{r|llllll}\n",
       "  & fy.1\\_KO1 & fy.1\\_KO2 & fy.1\\_KO3 & fy.2\\_KO1 & fy.2\\_KO2 & fy.2\\_KO3\\\\\n",
       "  & <int> & <int> & <int> & <int> & <int> & <int>\\\\\n",
       "\\hline\n",
       "\tENSG00000223972 &   0 &   1 &   1 &   0 &   0 &   0\\\\\n",
       "\tENSG00000227232 & 289 & 274 & 268 & 307 & 287 & 324\\\\\n",
       "\tENSG00000278267 &   0 &   0 &   0 &   0 &   0 &   1\\\\\n",
       "\\end{tabular}\n"
      ],
      "text/markdown": [
       "\n",
       "A data.frame: 3 × 6\n",
       "\n",
       "| <!--/--> | fy.1_KO1 &lt;int&gt; | fy.1_KO2 &lt;int&gt; | fy.1_KO3 &lt;int&gt; | fy.2_KO1 &lt;int&gt; | fy.2_KO2 &lt;int&gt; | fy.2_KO3 &lt;int&gt; |\n",
       "|---|---|---|---|---|---|---|\n",
       "| ENSG00000223972 |   0 |   1 |   1 |   0 |   0 |   0 |\n",
       "| ENSG00000227232 | 289 | 274 | 268 | 307 | 287 | 324 |\n",
       "| ENSG00000278267 |   0 |   0 |   0 |   0 |   0 |   1 |\n",
       "\n"
      ],
      "text/plain": [
       "                fy.1_KO1 fy.1_KO2 fy.1_KO3 fy.2_KO1 fy.2_KO2 fy.2_KO3\n",
       "ENSG00000223972   0        1        1        0        0        0     \n",
       "ENSG00000227232 289      274      268      307      287      324     \n",
       "ENSG00000278267   0        0        0        0        0        1     "
      ]
     },
     "metadata": {},
     "output_type": "display_data"
    }
   ],
   "source": [
    "count_table <- count_table[-c(1:4),] #first four rows are excluded\n",
    "count_table[1:3,1:6]"
   ]
  },
  {
   "cell_type": "markdown",
   "id": "74c2779b-5fdf-4fe1-badf-6b819add83de",
   "metadata": {},
   "source": [
    "## Annotation\n",
    "The gene symbols were annotated from the hg38 assembly, as the alignment for this dataset has been produced recently."
   ]
  },
  {
   "cell_type": "markdown",
   "id": "8ff766fd-0a69-40b0-8b16-1791393fec2f",
   "metadata": {
    "jp-MarkdownHeadingCollapsed": true,
    "tags": []
   },
   "source": [
    "The annotated count table of the protein coding genes was obtained with the following string of commands, which was executed on Rstudio due to the limited processing capabilities of my docker environment and, in general, of my laptop.\n",
    "\n",
    "------\n",
    "### Preparing the annotation\n",
    "```r\n",
    "gtf <- read.table(\"Homo_sapiens.GRCh38.109.gtf\", sep=\"\\t\", header=T)\n",
    "gtf1 <- gtf[which(gtf$gene == \"gene\"),]\n",
    "# the 9th column of this table contains the required set \"genes\"\n",
    "gtf1_annotation <- gtf1[,9]\n",
    "# removing the genes that are not named and that do not code for proteins\n",
    "gtf1_annotation <- gtf1_annotation[grep(\"gene_name \", gtf1_annotation )]\n",
    "gtf1_annotation <- gtf1_annotation[grep(\"protein_coding\", gtf1_annotation )]\n",
    "gtf1_annotation_lst <- strsplit(gtf1_annotation, \"; \")\n",
    "gtf1_annotation_df <- as.data.frame(gtf1_annotation_lst)\n",
    "# the table is translated to visualise the annotations as columns \n",
    "gtf1_annotation_df <- as.data.frame(t(gtf1_annotation_df))\n",
    "# extrapolating the ids and the symbols, and naming the columns\n",
    "gtf1_annotation_df <- gtf1_annotation_df[,c(1,3)] \n",
    "names(gtf1_annotation_df) <- c(\"ensemblid\",\"symbol\")\n",
    "# removing the descriptors from the values\n",
    "gtf1_annotation_df$ensemblid <- gsub(\"gene_id \", \"\", gtf1_annotation_df$ensemblid)\n",
    "gtf1_annotation_df$symbol <- gsub(\"gene_name \", \"\", gtf1_annotation_df$symbol)\n",
    "# naming the rows \"ensemblid:symbol\"\n",
    "rownames(gtf1_annotation_df) <- paste(gtf1_annotation_df$ensemblid, gtf1_annotation_df$symbol, sep=\":\")\n",
    "# removing duplicates from symbols and ensemblids (no duplicates were present in the second instance)\n",
    "gtf1_annotation_df <- gtf1_annotation_df[!duplicated(gtf1_annotation_df$symbol),]\n",
    "gtf1_annotation_df <- gtf1_annotation_df[!duplicated(gtf1_annotation_df$ensemblid),]\n",
    "\n",
    "```\n",
    "-----\n",
    "### Annotating the count table\n",
    "```r\n",
    "count_table <- read.table(\"count_table_newcol.tsv\", sep=\"\\t\", header = TRUE, row.names=1)\n",
    "# filtering out from the annotation the genes that are not present in the count table\n",
    "gtf1_annotation_filtered <- gtf1_annotation_df[which(gtf1_annotation_df$ensemblid %in% rownames(count_table)),]\n",
    "# filtering out the npc genes from the count table (they were excluded from the annotation)\n",
    "count_table <- count_table[which(rownames(count_table) %in% gtf1_annotation_df$ensemblid),]\n",
    "# ordering both the count and annotation table by their ensembl ids\n",
    "gtf1_annotation_filtered <- gtf1_annotation_filtered[order(gtf1_annotation_filtered$ensemblid),]\n",
    "count_table <- count_table[order(rownames(count_table)),]\n",
    "# checking if the ids match after being ordered\n",
    "identical(rownames(count_table), gtf1_annotation_filtered$ensemblid)\n",
    "# substituting the ids in the count table with the gene symbols\n",
    "rownames(count_table) <- gtf1_annotation_filtered$symbol\n",
    "write.table(count_table, \"annotated_count_table.tsv\", sep=\"\\t\", col.names = NA)\n",
    "```\n",
    "-------\n",
    "The annotated count table was then copied into the dataset folder"
   ]
  },
  {
   "cell_type": "markdown",
   "id": "c49ee461-86cb-4c61-acfe-d14888cdbdc9",
   "metadata": {
    "tags": []
   },
   "source": [
    "## Log2 CPM"
   ]
  },
  {
   "cell_type": "code",
   "execution_count": 4,
   "id": "e12b98dd-a45a-4269-85d3-7626578fad81",
   "metadata": {
    "tags": []
   },
   "outputs": [],
   "source": [
    "suppressMessages(library(edgeR))\n",
    "library(limma)\n",
    "\n",
    "cpm_mat <- cpm(count_table)\n",
    "log2_cpm_mat = log2(cpm_mat + 1)"
   ]
  },
  {
   "cell_type": "code",
   "execution_count": 5,
   "id": "b7ee7dfa-f5e9-4ad4-8dff-f89ceca252ad",
   "metadata": {
    "tags": []
   },
   "outputs": [
    {
     "data": {
      "text/html": [
       "<table class=\"dataframe\">\n",
       "<caption>A matrix: 3 × 6 of type dbl</caption>\n",
       "<thead>\n",
       "\t<tr><th></th><th scope=col>fy.1_KO1</th><th scope=col>fy.1_KO2</th><th scope=col>fy.1_KO3</th><th scope=col>fy.2_KO1</th><th scope=col>fy.2_KO2</th><th scope=col>fy.2_KO3</th></tr>\n",
       "</thead>\n",
       "<tbody>\n",
       "\t<tr><th scope=row>ENSG00000223972</th><td>0.000000</td><td>0.0298045</td><td>0.03121304</td><td>0.000000</td><td>0.000000</td><td>0.0000000</td></tr>\n",
       "\t<tr><th scope=row>ENSG00000227232</th><td>2.417888</td><td>2.7483357</td><td>2.77850699</td><td>2.908024</td><td>2.709171</td><td>3.0621210</td></tr>\n",
       "\t<tr><th scope=row>ENSG00000278267</th><td>0.000000</td><td>0.0000000</td><td>0.00000000</td><td>0.000000</td><td>0.000000</td><td>0.0323708</td></tr>\n",
       "</tbody>\n",
       "</table>\n"
      ],
      "text/latex": [
       "A matrix: 3 × 6 of type dbl\n",
       "\\begin{tabular}{r|llllll}\n",
       "  & fy.1\\_KO1 & fy.1\\_KO2 & fy.1\\_KO3 & fy.2\\_KO1 & fy.2\\_KO2 & fy.2\\_KO3\\\\\n",
       "\\hline\n",
       "\tENSG00000223972 & 0.000000 & 0.0298045 & 0.03121304 & 0.000000 & 0.000000 & 0.0000000\\\\\n",
       "\tENSG00000227232 & 2.417888 & 2.7483357 & 2.77850699 & 2.908024 & 2.709171 & 3.0621210\\\\\n",
       "\tENSG00000278267 & 0.000000 & 0.0000000 & 0.00000000 & 0.000000 & 0.000000 & 0.0323708\\\\\n",
       "\\end{tabular}\n"
      ],
      "text/markdown": [
       "\n",
       "A matrix: 3 × 6 of type dbl\n",
       "\n",
       "| <!--/--> | fy.1_KO1 | fy.1_KO2 | fy.1_KO3 | fy.2_KO1 | fy.2_KO2 | fy.2_KO3 |\n",
       "|---|---|---|---|---|---|---|\n",
       "| ENSG00000223972 | 0.000000 | 0.0298045 | 0.03121304 | 0.000000 | 0.000000 | 0.0000000 |\n",
       "| ENSG00000227232 | 2.417888 | 2.7483357 | 2.77850699 | 2.908024 | 2.709171 | 3.0621210 |\n",
       "| ENSG00000278267 | 0.000000 | 0.0000000 | 0.00000000 | 0.000000 | 0.000000 | 0.0323708 |\n",
       "\n"
      ],
      "text/plain": [
       "                fy.1_KO1 fy.1_KO2  fy.1_KO3   fy.2_KO1 fy.2_KO2 fy.2_KO3 \n",
       "ENSG00000223972 0.000000 0.0298045 0.03121304 0.000000 0.000000 0.0000000\n",
       "ENSG00000227232 2.417888 2.7483357 2.77850699 2.908024 2.709171 3.0621210\n",
       "ENSG00000278267 0.000000 0.0000000 0.00000000 0.000000 0.000000 0.0323708"
      ]
     },
     "metadata": {},
     "output_type": "display_data"
    }
   ],
   "source": [
    "log2_cpm_mat[1:3,1:6]"
   ]
  },
  {
   "cell_type": "markdown",
   "id": "03a16530-3582-406d-9d25-f69048abeae5",
   "metadata": {
    "tags": []
   },
   "source": [
    "## PCA"
   ]
  },
  {
   "cell_type": "markdown",
   "id": "2f4505c0-2073-4afe-80c8-88007a988d12",
   "metadata": {},
   "source": [
    "The column names need to be modified to allow for an easier labelling of the samples with PCA.\n",
    "This renaming will be done on both the count and log2cpm conversion of the data."
   ]
  },
  {
   "cell_type": "code",
   "execution_count": 6,
   "id": "8c8578d9-8b92-435c-8cf0-f4fed17b2a10",
   "metadata": {
    "tags": []
   },
   "outputs": [],
   "source": [
    "colnames(count_table) <- c(\"KO1_fy1\",\"KO2_fy1\",\"KO3_fy1\",\"KO1_fy2\",\"KO2_fy2\",\"KO3_fy2\",\"KO1_fy4\",\"KO2_fy4\",\"KO3_fy4\",\"KO1_fy5\",\"KO2_fy5\",\"KO3_fy5\",\"HeLa1_wt\",\"HeLa2_wt\",\"HeLa3_wt\")\n",
    "colnames(log2_cpm_mat) <- colnames(count_table)"
   ]
  },
  {
   "cell_type": "markdown",
   "id": "99c3e9ba-d37c-42ad-9385-e3d18a274376",
   "metadata": {
    "tags": []
   },
   "source": [
    " The matrixes were saved as .tsv to allow their use by the pca function."
   ]
  },
  {
   "cell_type": "code",
   "execution_count": 7,
   "id": "82e5e660-e9aa-4f78-94d4-b38a90a4c47f",
   "metadata": {
    "tags": []
   },
   "outputs": [],
   "source": [
    "write.table(log2_cpm_mat, \"/sharedFolder/dataset/log2_cpm_newcol.tsv\", sep=\"\\t\", col.names = NA) \n",
    "write.table(count_table, \"/sharedFolder/dataset/count_table_newcol.tsv\", sep=\"\\t\", col.names = NA) "
   ]
  },
  {
   "cell_type": "code",
   "execution_count": 8,
   "id": "e9f8ad38-5877-407e-b7c0-52cf1dee4b21",
   "metadata": {
    "tags": []
   },
   "outputs": [
    {
     "data": {
      "image/png": "[encoded data removed]",
      "text/plain": [
       "Plot with title “/sharedFolder/dataset/count_table_newcol.tsv”"
      ]
     },
     "metadata": {
      "image/png": {
       "height": 420,
       "width": 420
      }
     },
     "output_type": "display_data"
    }
   ],
   "source": [
    "source(\"/sharedFolder/docker4seq-master/R/pca.R\")\n",
    "pca(\n",
    "    experiment.table = \"/sharedFolder/dataset/count_table_newcol.tsv\",\n",
    "    type = \"counts\",\n",
    "    covariatesInNames = TRUE,\n",
    "    samplesName = TRUE,\n",
    "    principal.components = c(1, 2),\n",
    "    legend.position = \"bottomleft\",\n",
    "    pdf = FALSE\n",
    "    )"
   ]
  },
  {
   "cell_type": "markdown",
   "id": "6c326240-ce32-41fa-aa05-6a36a36cb094",
   "metadata": {},
   "source": [
    "- There seems to be a good separation already, but it could be made clearer with a logarythmic transformation."
   ]
  },
  {
   "cell_type": "code",
   "execution_count": 9,
   "id": "8b470a0e-a086-4c35-808c-12782d30276f",
   "metadata": {
    "tags": []
   },
   "outputs": [
    {
     "data": {
      "image/png": "[encoded data removed]",
      "text/plain": [
       "Plot with title “/sharedFolder/dataset/log2_cpm_newcol.tsv”"
      ]
     },
     "metadata": {
      "image/png": {
       "height": 420,
       "width": 420
      }
     },
     "output_type": "display_data"
    }
   ],
   "source": [
    "pca(\n",
    "    experiment.table = \"/sharedFolder/dataset/log2_cpm_newcol.tsv\",\n",
    "    type = \"TPM\",\n",
    "    covariatesInNames = TRUE,\n",
    "    samplesName = TRUE,\n",
    "    principal.components = c(1,3),\n",
    "    legend.position = \"topright\",\n",
    "    pdf = FALSE\n",
    "    )"
   ]
  },
  {
   "cell_type": "markdown",
   "id": "24d4e204-f2b2-4ab5-9f02-eb5763b354d3",
   "metadata": {},
   "source": [
    "- Let's analyse how much of the variance is explained by each principal component."
   ]
  },
  {
   "cell_type": "code",
   "execution_count": 10,
   "id": "736365ea-a9db-4bf8-85b4-261f4d07a1e7",
   "metadata": {
    "tags": []
   },
   "outputs": [
    {
     "data": {
      "image/png": "[encoded data removed]",
      "text/plain": [
       "Plot with title “Scree plot”"
      ]
     },
     "metadata": {
      "image/png": {
       "height": 420,
       "width": 420
      }
     },
     "output_type": "display_data"
    }
   ],
   "source": [
    "pca <- prcomp(t(log2_cpm_mat))\n",
    "x <- factor(colnames(summary(pca)$importance), levels=colnames(summary(pca)$importance))\n",
    "barplot(summary(pca)$importance[2,]*100,names.arg=x, las=2, ylab=\"Variance proportion (%)\", main=\"Scree plot\", col=\"darkcyan\")"
   ]
  },
  {
   "cell_type": "markdown",
   "id": "06df4bd0-1da6-44fa-9b1d-5755efe3efab",
   "metadata": {},
   "source": [
    "Despite the steep reduction of explained variance, the first principal component can only account for 35% of the whole picture. This suggests a more complex interplay of factors."
   ]
  },
  {
   "cell_type": "markdown",
   "id": "604b0ce9-1b9e-48f3-9be9-7a57327cdb3f",
   "metadata": {},
   "source": [
    "# tSNE & UMAP"
   ]
  },
  {
   "cell_type": "code",
   "execution_count": 11,
   "id": "d6e88320-9c77-4179-a8fd-f0d6119ee42f",
   "metadata": {
    "tags": []
   },
   "outputs": [],
   "source": [
    "library(Rtsne)\n",
    "library(umap)\n",
    "library(ggplot2)"
   ]
  },
  {
   "cell_type": "code",
   "execution_count": 12,
   "id": "b6207d88-4b3b-4f75-ab3d-95fd094055f9",
   "metadata": {
    "tags": []
   },
   "outputs": [
    {
     "data": {
      "image/png": "[encoded data removed]",
      "text/plain": [
       "plot without title"
      ]
     },
     "metadata": {
      "image/png": {
       "height": 420,
       "width": 420
      }
     },
     "output_type": "display_data"
    }
   ],
   "source": [
    "set.seed(111)\n",
    "tsne.out <- Rtsne(t(log2_cpm_mat), pca = FALSE, perplexity = 2) # Run TSNE\n",
    "f <- data.frame(x = as.numeric(tsne.out$Y[,1]), y = as.numeric(tsne.out$Y[,2]))\n",
    "sp <- ggplot(f, aes(x=x, y=y)) + geom_point(pch = 19, cex = 0.3)\n",
    "sp"
   ]
  },
  {
   "cell_type": "markdown",
   "id": "5c0734ee-11f3-40fe-80f2-066c58520dc8",
   "metadata": {},
   "source": [
    "- For umap I am going to work with the annotated count table as it only contains the counts for the protein coding genes. \n",
    "The results can be later used for k-mean clustering and gene onthology, as GO works with protein coding genes only."
   ]
  },
  {
   "cell_type": "code",
   "execution_count": 13,
   "id": "3fa02b22-15ac-4c98-bca9-05d07c9bf6f8",
   "metadata": {},
   "outputs": [],
   "source": [
    "ann_count_table <- read.table(\"/sharedFolder/dataset/annotated_count_table.tsv\", sep=\"\\t\", header = TRUE, row.names=1)\n",
    "cpm_mat <- cpm(ann_count_table)\n",
    "ann_log2_cpm_mat = log2(cpm_mat + 1)\n",
    "colnames(ann_log2_cpm_mat) <- colnames(log2_cpm_mat)\n",
    "colnames(ann_count_table) <- colnames(log2_cpm_mat)"
   ]
  },
  {
   "cell_type": "code",
   "execution_count": 14,
   "id": "02dbe865-4569-4750-a09b-9ac812d92edb",
   "metadata": {
    "tags": []
   },
   "outputs": [
    {
     "data": {
      "image/png": "[encoded data removed]",
      "text/plain": [
       "plot without title"
      ]
     },
     "metadata": {
      "image/png": {
       "height": 420,
       "width": 420
      }
     },
     "output_type": "display_data"
    }
   ],
   "source": [
    "set.seed(111)\n",
    "umap.out <- umap(t(ann_log2_cpm_mat), n_epochs = 1000, min_dist = 0.01, n_neighbors = 4) \n",
    "f=data.frame(x=as.numeric(umap.out$layout[,1]), y=as.numeric(umap.out$layout[,2]))\n",
    "sp <- ggplot(f, aes(x=x, y=y)) + geom_point(pch = 19, cex = 3)\n",
    "sp"
   ]
  },
  {
   "cell_type": "markdown",
   "id": "18d893fa-71e5-4c68-8f9e-3fa9c708b4d5",
   "metadata": {},
   "source": [
    "The clustering seems to stay consistent after the removal of the non coding genes from the expression data."
   ]
  },
  {
   "cell_type": "markdown",
   "id": "8eaa86bf-9a4c-431f-81ba-e00425443b64",
   "metadata": {},
   "source": [
    "## K-mean clustering"
   ]
  },
  {
   "cell_type": "code",
   "execution_count": 15,
   "id": "e32c539b-397b-44aa-8df5-c1350b764f99",
   "metadata": {},
   "outputs": [
    {
     "name": "stdout",
     "output_type": "stream",
     "text": [
      "kmeans(): generating initial means\n",
      "kmeans(): n_threads: 4\n",
      "kmeans(): iteration:    1   delta: 20.7874\n",
      "kmeans(): iteration:    2   delta: 2.30537\n",
      "kmeans(): iteration:    3   delta: 0\n"
     ]
    }
   ],
   "source": [
    "library(ClusterR)\n",
    "\n",
    "set.seed(111)\n",
    "km <- KMeans_arma(f, clusters = 5, n_iter = 30, seed_mode = \"random_subset\", verbose = T)\n",
    "pr <- predict_KMeans(f, km)"
   ]
  },
  {
   "cell_type": "code",
   "execution_count": 16,
   "id": "ac3495f1-422b-47a4-ab1a-a20372bbf7d2",
   "metadata": {
    "tags": []
   },
   "outputs": [
    {
     "data": {
      "text/html": [
       "<style>\n",
       ".list-inline {list-style: none; margin:0; padding: 0}\n",
       ".list-inline>li {display: inline-block}\n",
       ".list-inline>li:not(:last-child)::after {content: \"\\00b7\"; padding: 0 .5ex}\n",
       "</style>\n",
       "<ol class=list-inline><li>5</li><li>5</li><li>5</li><li>3</li><li>3</li><li>3</li><li>2</li><li>2</li><li>2</li><li>1</li><li>1</li><li>1</li><li>4</li><li>4</li><li>4</li></ol>\n",
       "\n",
       "<details>\n",
       "\t<summary style=display:list-item;cursor:pointer>\n",
       "\t\t<strong>Levels</strong>:\n",
       "\t</summary>\n",
       "\t<style>\n",
       "\t.list-inline {list-style: none; margin:0; padding: 0}\n",
       "\t.list-inline>li {display: inline-block}\n",
       "\t.list-inline>li:not(:last-child)::after {content: \"\\00b7\"; padding: 0 .5ex}\n",
       "\t</style>\n",
       "\t<ol class=list-inline><li>'1'</li><li>'2'</li><li>'3'</li><li>'4'</li><li>'5'</li></ol>\n",
       "</details>"
      ],
      "text/latex": [
       "\\begin{enumerate*}\n",
       "\\item 5\n",
       "\\item 5\n",
       "\\item 5\n",
       "\\item 3\n",
       "\\item 3\n",
       "\\item 3\n",
       "\\item 2\n",
       "\\item 2\n",
       "\\item 2\n",
       "\\item 1\n",
       "\\item 1\n",
       "\\item 1\n",
       "\\item 4\n",
       "\\item 4\n",
       "\\item 4\n",
       "\\end{enumerate*}\n",
       "\n",
       "\\emph{Levels}: \\begin{enumerate*}\n",
       "\\item '1'\n",
       "\\item '2'\n",
       "\\item '3'\n",
       "\\item '4'\n",
       "\\item '5'\n",
       "\\end{enumerate*}\n"
      ],
      "text/markdown": [
       "1. 5\n",
       "2. 5\n",
       "3. 5\n",
       "4. 3\n",
       "5. 3\n",
       "6. 3\n",
       "7. 2\n",
       "8. 2\n",
       "9. 2\n",
       "10. 1\n",
       "11. 1\n",
       "12. 1\n",
       "13. 4\n",
       "14. 4\n",
       "15. 4\n",
       "\n",
       "\n",
       "\n",
       "**Levels**: 1. '1'\n",
       "2. '2'\n",
       "3. '3'\n",
       "4. '4'\n",
       "5. '5'\n",
       "\n",
       "\n"
      ],
      "text/plain": [
       " [1] 5 5 5 3 3 3 2 2 2 1 1 1 4 4 4\n",
       "Levels: 1 2 3 4 5"
      ]
     },
     "metadata": {},
     "output_type": "display_data"
    }
   ],
   "source": [
    "pr <- as.factor(pr)\n",
    "pr"
   ]
  },
  {
   "cell_type": "code",
   "execution_count": 17,
   "id": "985c73ee-94d3-4eb6-ab20-1de7b05ec404",
   "metadata": {
    "tags": []
   },
   "outputs": [],
   "source": [
    "class(km) <- \"matrix\""
   ]
  },
  {
   "cell_type": "code",
   "execution_count": 18,
   "id": "c54b8056-2b74-45f8-8ae1-70aea538bc9e",
   "metadata": {
    "tags": []
   },
   "outputs": [
    {
     "data": {
      "image/png": "[encoded data removed]",
      "text/plain": [
       "plot without title"
      ]
     },
     "metadata": {
      "image/png": {
       "height": 420,
       "width": 420
      }
     },
     "output_type": "display_data"
    }
   ],
   "source": [
    "sp <- ggplot(f, aes(x=x,y=y)) + geom_point(pch=17, cex=3, color=pr)\n",
    "sp"
   ]
  },
  {
   "cell_type": "markdown",
   "id": "8d998601-b4b9-401d-9fb0-5c8da7426f89",
   "metadata": {
    "tags": []
   },
   "source": [
    "- Assigning the samples to each k-mean rank they belong to "
   ]
  },
  {
   "cell_type": "code",
   "execution_count": 19,
   "id": "a229cfcb-b5bf-46e2-bb56-4f8a7527b3cb",
   "metadata": {
    "tags": []
   },
   "outputs": [],
   "source": [
    "rownames(f) <- names(ann_count_table)\n",
    "rownames(f) <- paste(rownames(f), as.character(pr), sep=\":\")\n",
    "names(ann_count_table) <- rownames(f)\n",
    "ann_count_table <- as.data.frame(ann_count_table)"
   ]
  },
  {
   "cell_type": "markdown",
   "id": "054d00d8-22a1-4602-875c-e67f0812f0dd",
   "metadata": {
    "tags": []
   },
   "source": [
    "- Summing the counts between all the samples that were ranked together"
   ]
  },
  {
   "cell_type": "code",
   "execution_count": 20,
   "id": "2f733656-292d-431d-beb3-67a7a449f8c1",
   "metadata": {
    "tags": []
   },
   "outputs": [],
   "source": [
    "# cls4 <- ann_count_table[,11]\n",
    "# names(cls4) <- rownames(ann_count_table)\n",
    "cls1 <- apply(ann_count_table[,grep(\":1$\", colnames(ann_count_table))], 1, sum)\n",
    "cls2 <- apply(ann_count_table[,grep(\":2$\", colnames(ann_count_table))], 1, sum)\n",
    "cls3 <- apply(ann_count_table[,grep(\":3$\", colnames(ann_count_table))], 1, sum)\n",
    "cls4 <- apply(ann_count_table[,grep(\":4$\", colnames(ann_count_table))], 1, sum)\n",
    "cls5 <- apply(ann_count_table[,grep(\":5$\", colnames(ann_count_table))], 1, sum)\n",
    "cls <- data.frame(cls1, cls2, cls3, cls4, cls5)"
   ]
  },
  {
   "cell_type": "markdown",
   "id": "dddfe713-bf32-422c-aabb-1b1658674a34",
   "metadata": {},
   "source": [
    "-  There may be instances in which one of the levels clusteres as one single column. In those cases the apply() function is unable to work and it is necessary to use the commented commands instead."
   ]
  },
  {
   "cell_type": "markdown",
   "id": "4c610af8-a438-4275-9a86-c9b6fca1d9fe",
   "metadata": {
    "tags": []
   },
   "source": [
    "- Proceeding with the log2cpm conversion and the normalisation of the clustered counts"
   ]
  },
  {
   "cell_type": "code",
   "execution_count": 21,
   "id": "89a09338-2849-4163-9172-70dcd78770b4",
   "metadata": {
    "tags": []
   },
   "outputs": [],
   "source": [
    "col_sum <- apply(cls, 2, sum)\n",
    "cls_rank <- t(cls)/col_sum\n",
    "cls_rank <- as.data.frame(t(cls_rank) * 1000000)\n",
    "cls_rank_log <- log2(cls_rank + 1)\n",
    "\n",
    "cls_rank_log_mean <- apply(cls_rank_log, 1, mean)\n",
    "cls_rank_log_normalised <- cls_rank_log - cls_rank_log_mean\n",
    "\n",
    "log2_cpm_mat_mean <- apply(ann_log2_cpm_mat, 1, mean)\n",
    "log2_cpm_mat_normalised <- ann_log2_cpm_mat - log2_cpm_mat_mean"
   ]
  },
  {
   "cell_type": "code",
   "execution_count": 22,
   "id": "6517c236-8680-404e-b8f8-de619e29d155",
   "metadata": {
    "tags": []
   },
   "outputs": [],
   "source": [
    "cls_mat_n <- data.frame(log2_cpm_mat_normalised, cls_rank_log_normalised)"
   ]
  },
  {
   "cell_type": "code",
   "execution_count": 23,
   "id": "aa7e7962-98df-458c-ab3d-8a4fc5219a35",
   "metadata": {
    "tags": []
   },
   "outputs": [
    {
     "data": {
      "text/html": [
       "<strong>png:</strong> 2"
      ],
      "text/latex": [
       "\\textbf{png:} 2"
      ],
      "text/markdown": [
       "**png:** 2"
      ],
      "text/plain": [
       "png \n",
       "  2 "
      ]
     },
     "metadata": {},
     "output_type": "display_data"
    },
    {
     "data": {
      "image/png": "[encoded data removed]",
      "text/plain": [
       "Plot with title “Cluster Dendrogram”"
      ]
     },
     "metadata": {
      "image/png": {
       "height": 420,
       "width": 420
      }
     },
     "output_type": "display_data"
    }
   ],
   "source": [
    "set.seed(111)\n",
    "cls_mat_n <- as.data.frame(scale(t(cls_mat_n)))\n",
    "dist_mat <- dist(cls_mat_n, method = \"euclidean\")\n",
    "hclust_avg <- hclust(dist_mat, method = \"average\")\n",
    "pdf(\"/sharedFolder/results/hclust_res.pdf\")\n",
    "plot(hclust_avg)\n",
    "dev.off()\n",
    "plot(hclust_avg)"
   ]
  },
  {
   "cell_type": "markdown",
   "id": "d29399ac-5c24-4e9c-b1ce-8a04108c9c14",
   "metadata": {},
   "source": [
    "We can see from this result that every KO line posesses a characteristical transcription profile. WT and FY1 branch off last, suggesting a more similar transcriptional activity which was already noticeable in the pca results. \n",
    "This could suggest a varying degree of impact that each individual mutation has on the cell transcriptome, and the consequent deviation from the physiological state."
   ]
  },
  {
   "cell_type": "markdown",
   "id": "bbcfee7c-7810-433b-8cd3-d5848b98988a",
   "metadata": {
    "tags": []
   },
   "source": [
    "# DESeq2"
   ]
  },
  {
   "cell_type": "markdown",
   "id": "121902b3-8326-4e98-b5af-f0ab68b0a9bc",
   "metadata": {},
   "source": [
    "To use this function we need to prepare the sample condition matrix."
   ]
  },
  {
   "cell_type": "code",
   "execution_count": 24,
   "id": "cc9b9e4d-4302-46bd-8269-b7fda7011c3c",
   "metadata": {
    "tags": []
   },
   "outputs": [
    {
     "data": {
      "text/html": [
       "<table class=\"dataframe\">\n",
       "<caption>A matrix: 15 × 1 of type chr</caption>\n",
       "<thead>\n",
       "\t<tr><th></th><th scope=col>condition</th></tr>\n",
       "</thead>\n",
       "<tbody>\n",
       "\t<tr><th scope=row>KO1_fy1</th><td>FERRY1</td></tr>\n",
       "\t<tr><th scope=row>KO2_fy1</th><td>FERRY1</td></tr>\n",
       "\t<tr><th scope=row>KO3_fy1</th><td>FERRY1</td></tr>\n",
       "\t<tr><th scope=row>KO1_fy2</th><td>FERRY2</td></tr>\n",
       "\t<tr><th scope=row>KO2_fy2</th><td>FERRY2</td></tr>\n",
       "\t<tr><th scope=row>KO3_fy2</th><td>FERRY2</td></tr>\n",
       "\t<tr><th scope=row>KO1_fy4</th><td>FERRY4</td></tr>\n",
       "\t<tr><th scope=row>KO2_fy4</th><td>FERRY4</td></tr>\n",
       "\t<tr><th scope=row>KO3_fy4</th><td>FERRY4</td></tr>\n",
       "\t<tr><th scope=row>KO1_fy5</th><td>FERRY5</td></tr>\n",
       "\t<tr><th scope=row>KO2_fy5</th><td>FERRY5</td></tr>\n",
       "\t<tr><th scope=row>KO3_fy5</th><td>FERRY5</td></tr>\n",
       "\t<tr><th scope=row>HeLa1_wt</th><td>CTRL  </td></tr>\n",
       "\t<tr><th scope=row>HeLa2_wt</th><td>CTRL  </td></tr>\n",
       "\t<tr><th scope=row>HeLa3_wt</th><td>CTRL  </td></tr>\n",
       "</tbody>\n",
       "</table>\n"
      ],
      "text/latex": [
       "A matrix: 15 × 1 of type chr\n",
       "\\begin{tabular}{r|l}\n",
       "  & condition\\\\\n",
       "\\hline\n",
       "\tKO1\\_fy1 & FERRY1\\\\\n",
       "\tKO2\\_fy1 & FERRY1\\\\\n",
       "\tKO3\\_fy1 & FERRY1\\\\\n",
       "\tKO1\\_fy2 & FERRY2\\\\\n",
       "\tKO2\\_fy2 & FERRY2\\\\\n",
       "\tKO3\\_fy2 & FERRY2\\\\\n",
       "\tKO1\\_fy4 & FERRY4\\\\\n",
       "\tKO2\\_fy4 & FERRY4\\\\\n",
       "\tKO3\\_fy4 & FERRY4\\\\\n",
       "\tKO1\\_fy5 & FERRY5\\\\\n",
       "\tKO2\\_fy5 & FERRY5\\\\\n",
       "\tKO3\\_fy5 & FERRY5\\\\\n",
       "\tHeLa1\\_wt & CTRL  \\\\\n",
       "\tHeLa2\\_wt & CTRL  \\\\\n",
       "\tHeLa3\\_wt & CTRL  \\\\\n",
       "\\end{tabular}\n"
      ],
      "text/markdown": [
       "\n",
       "A matrix: 15 × 1 of type chr\n",
       "\n",
       "| <!--/--> | condition |\n",
       "|---|---|\n",
       "| KO1_fy1 | FERRY1 |\n",
       "| KO2_fy1 | FERRY1 |\n",
       "| KO3_fy1 | FERRY1 |\n",
       "| KO1_fy2 | FERRY2 |\n",
       "| KO2_fy2 | FERRY2 |\n",
       "| KO3_fy2 | FERRY2 |\n",
       "| KO1_fy4 | FERRY4 |\n",
       "| KO2_fy4 | FERRY4 |\n",
       "| KO3_fy4 | FERRY4 |\n",
       "| KO1_fy5 | FERRY5 |\n",
       "| KO2_fy5 | FERRY5 |\n",
       "| KO3_fy5 | FERRY5 |\n",
       "| HeLa1_wt | CTRL   |\n",
       "| HeLa2_wt | CTRL   |\n",
       "| HeLa3_wt | CTRL   |\n",
       "\n"
      ],
      "text/plain": [
       "         condition\n",
       "KO1_fy1  FERRY1   \n",
       "KO2_fy1  FERRY1   \n",
       "KO3_fy1  FERRY1   \n",
       "KO1_fy2  FERRY2   \n",
       "KO2_fy2  FERRY2   \n",
       "KO3_fy2  FERRY2   \n",
       "KO1_fy4  FERRY4   \n",
       "KO2_fy4  FERRY4   \n",
       "KO3_fy4  FERRY4   \n",
       "KO1_fy5  FERRY5   \n",
       "KO2_fy5  FERRY5   \n",
       "KO3_fy5  FERRY5   \n",
       "HeLa1_wt CTRL     \n",
       "HeLa2_wt CTRL     \n",
       "HeLa3_wt CTRL     "
      ]
     },
     "metadata": {},
     "output_type": "display_data"
    }
   ],
   "source": [
    "colnames(ann_count_table) <- colnames(log2_cpm_mat)\n",
    "coldata <- matrix(colnames(ann_count_table))\n",
    "rownames(coldata) <- colnames(ann_count_table)\n",
    "colnames(coldata) <- \"condition\"\n",
    "coldata[c(1:3),] <- \"FERRY1\"\n",
    "coldata[c(4:6),] <- \"FERRY2\"\n",
    "coldata[c(7:9),] <- \"FERRY4\"\n",
    "coldata[c(10:12),] <- \"FERRY5\"\n",
    "coldata[c(13:15),] <- \"CTRL\"\n",
    "coldata"
   ]
  },
  {
   "cell_type": "code",
   "execution_count": 25,
   "id": "1a10a6fc-a253-47b3-8cb4-7c9808ea50f9",
   "metadata": {
    "tags": []
   },
   "outputs": [],
   "source": [
    "suppressMessages(library(\"DESeq2\"))"
   ]
  },
  {
   "cell_type": "code",
   "execution_count": 26,
   "id": "f2da2013-7526-4a20-a1fb-543fbca84f87",
   "metadata": {
    "tags": []
   },
   "outputs": [
    {
     "name": "stderr",
     "output_type": "stream",
     "text": [
      "Warning message in DESeqDataSet(se, design = design, ignoreRank):\n",
      "“some variables in design formula are characters, converting to factors”\n"
     ]
    }
   ],
   "source": [
    "dds <- DESeqDataSetFromMatrix(countData = ann_count_table,\n",
    "                              colData = coldata,\n",
    "                              design = ~ condition)"
   ]
  },
  {
   "cell_type": "code",
   "execution_count": 27,
   "id": "4eca536b-f92c-418f-a39b-050b8b1441fc",
   "metadata": {
    "tags": []
   },
   "outputs": [],
   "source": [
    "suppressMessages(dds <- DESeq(dds))"
   ]
  },
  {
   "cell_type": "markdown",
   "id": "1fe9072a-c958-4073-a06f-c904e7c8be61",
   "metadata": {},
   "source": [
    "- Getting rid of unused variables to lighten the load on my laptop"
   ]
  },
  {
   "cell_type": "code",
   "execution_count": 28,
   "id": "322ada3a-7664-46cd-bb58-d727cfb1de66",
   "metadata": {},
   "outputs": [],
   "source": [
    "save(count_table, file=\"/sharedFolder/save/count_table.rda\")\n",
    "save(dds, file=\"/sharedFolder/save/dds.rda\")\n",
    "rm(list = ls())\n",
    "load(\"/sharedFolder/save/dds.rda\")"
   ]
  },
  {
   "cell_type": "markdown",
   "id": "36547218-cb21-451d-b44c-631b75fc8493",
   "metadata": {},
   "source": [
    "- Using contrast with each of the FERRY component KOs against the control."
   ]
  },
  {
   "cell_type": "code",
   "execution_count": 29,
   "id": "63416ce8-9c60-4e82-8397-65604cabe1a5",
   "metadata": {
    "tags": []
   },
   "outputs": [],
   "source": [
    "res_F1 <- results(dds, contrast=c(\"condition\",\"FERRY1\",\"CTRL\"))\n",
    "res_F2 <- results(dds, contrast=c(\"condition\",\"FERRY2\",\"CTRL\"))\n",
    "res_F4 <- results(dds, contrast=c(\"condition\",\"FERRY4\",\"CTRL\"))\n",
    "res_F5 <- results(dds, contrast=c(\"condition\",\"FERRY5\",\"CTRL\"))"
   ]
  },
  {
   "cell_type": "markdown",
   "id": "e72d312d-ffc5-40f2-b380-05c5bcfb8a72",
   "metadata": {},
   "source": [
    "- Defining a **function** to filter the results"
   ]
  },
  {
   "cell_type": "code",
   "execution_count": 30,
   "id": "306fca71-1249-4762-abaa-f978aded95a0",
   "metadata": {
    "tags": []
   },
   "outputs": [],
   "source": [
    "filter.res <- function(res, padj) \n",
    "{\n",
    "    short_res <- res[is.na(res$padj) == 0,] #removing NA rows\n",
    "    short_res <- short_res[short_res$padj <= padj,]\n",
    "    short_res <- short_res[abs(short_res$log2FoldChange) >= 1,]\n",
    "    print(\"Original number of genes:\")\n",
    "    print(nrow(res))\n",
    "    print(\"Significant genes:\")\n",
    "    print(nrow(short_res))\n",
    "    return(short_res)\n",
    "}"
   ]
  },
  {
   "cell_type": "code",
   "execution_count": 31,
   "id": "bdbeea94-edfd-4851-94ce-5bbe4247c45c",
   "metadata": {
    "tags": []
   },
   "outputs": [
    {
     "name": "stdout",
     "output_type": "stream",
     "text": [
      "[1] \"Original number of genes:\"\n",
      "[1] 19306\n",
      "[1] \"Significant genes:\"\n",
      "[1] 313\n"
     ]
    }
   ],
   "source": [
    "short_res_F1 <- filter.res(res_F1, padj = 0.05)"
   ]
  },
  {
   "cell_type": "code",
   "execution_count": 32,
   "id": "b679f88f-d35f-43ea-a402-bfd023d0f271",
   "metadata": {
    "tags": []
   },
   "outputs": [
    {
     "name": "stdout",
     "output_type": "stream",
     "text": [
      "[1] \"Original number of genes:\"\n",
      "[1] 19306\n",
      "[1] \"Significant genes:\"\n",
      "[1] 533\n"
     ]
    }
   ],
   "source": [
    "short_res_F2 <- filter.res(res_F2, padj = 0.05)"
   ]
  },
  {
   "cell_type": "code",
   "execution_count": 33,
   "id": "79b74c44-bbe2-47eb-b92e-7327bf6c4691",
   "metadata": {},
   "outputs": [
    {
     "name": "stdout",
     "output_type": "stream",
     "text": [
      "[1] \"Original number of genes:\"\n",
      "[1] 19306\n",
      "[1] \"Significant genes:\"\n",
      "[1] 650\n"
     ]
    }
   ],
   "source": [
    "short_res_F4 <- filter.res(res_F4, padj = 0.05)"
   ]
  },
  {
   "cell_type": "code",
   "execution_count": 34,
   "id": "7162ce28-05c5-42ea-96aa-6b30d2ee6f72",
   "metadata": {},
   "outputs": [
    {
     "name": "stdout",
     "output_type": "stream",
     "text": [
      "[1] \"Original number of genes:\"\n",
      "[1] 19306\n",
      "[1] \"Significant genes:\"\n",
      "[1] 529\n"
     ]
    }
   ],
   "source": [
    "short_res_F5 <- filter.res(res_F5, padj = 0.05)"
   ]
  },
  {
   "cell_type": "code",
   "execution_count": 35,
   "id": "6e64381e-2b14-430e-971e-12f996a65fe0",
   "metadata": {
    "tags": []
   },
   "outputs": [],
   "source": [
    "write.table(short_res_F1, \"/sharedFolder/save/listaF1.tsv\", sep=\"\\t\", col.names = NA)\n",
    "write.table(short_res_F2, \"/sharedFolder/save/listaF2.tsv\", sep=\"\\t\", col.names = NA) \n",
    "write.table(short_res_F4, \"/sharedFolder/save/listaF4.tsv\", sep=\"\\t\", col.names = NA) \n",
    "write.table(short_res_F5, \"/sharedFolder/save/listaF5.tsv\", sep=\"\\t\", col.names = NA) "
   ]
  },
  {
   "cell_type": "markdown",
   "id": "39259873-f779-4bfd-947d-0b38722d3b45",
   "metadata": {},
   "source": [
    "These differently expressed genes can be used to observe the similarities and differences in the transcriptome between the various KOs."
   ]
  },
  {
   "cell_type": "markdown",
   "id": "36a5c1e9-b6b6-4cc5-a40a-c57334440858",
   "metadata": {},
   "source": [
    "![Venn diagram](\"/sharedFolder/results/venn_result.png\")"
   ]
  },
  {
   "cell_type": "markdown",
   "id": "ba53f05f-5ed0-4c6a-95bc-21844f854cd1",
   "metadata": {},
   "source": [
    "# Discussion\n",
    "Especially when looking at the clustering results, a great branching from the physiological state can be observed in the FY2 and FY4 KOs, further confirming the core role of the two components in the complex, and a lesser so of the FY1.\n",
    "However, it is also interesting to notice how despite being involved in the same complex, all of the different KOs still show a significant amount of dissimilarity. This suggests that the KO of one of the components from this system does not lead to the same identical phenotype, such as one caused by a fully dysfunctional FERRY pathway. Therefore one could assume that either the various components have additional roles outside of this system, or that the ferry complex can still function to some extent without one of them, thus causing the observed array of gene expression profiles."
   ]
  },
  {
   "cell_type": "code",
   "execution_count": null,
   "id": "f57f639a-52f2-41e0-802c-a5a9f12db1c8",
   "metadata": {},
   "outputs": [],
   "source": []
  }
 ],
 "metadata": {
  "kernelspec": {
   "display_name": "R",
   "language": "R",
   "name": "ir"
  },
  "language_info": {
   "codemirror_mode": "r",
   "file_extension": ".r",
   "mimetype": "text/x-r-source",
   "name": "R",
   "pygments_lexer": "r",
   "version": "4.1.1"
  }
 },
 "nbformat": 4,
 "nbformat_minor": 5
}
